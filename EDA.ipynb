{
  "cells": [
    {
      "cell_type": "code",
      "execution_count": 1,
      "metadata": {
        "id": "fgU2OkhQbWL4"
      },
      "outputs": [],
      "source": [
        "# Importing packages\n",
        "import os\n",
        "import pandas as pd\n",
        "import numpy as np\n",
        "import networkx as nx\n",
        "from matplotlib import pyplot as plt\n",
        "from tqdm import tqdm"
      ]
    },
    {
      "cell_type": "code",
      "execution_count": 2,
      "metadata": {
        "id": "7Bbf4LkMcE7d"
      },
      "outputs": [],
      "source": [
        "# Importing data with network creation prepared by Chia\n",
        "nodes = pd.read_csv(\"youtube_raw.csv\")"
      ]
    },
    {
      "cell_type": "code",
      "execution_count": 3,
      "metadata": {
        "id": "1bKkR3Tz48Qe"
      },
      "outputs": [],
      "source": [
        "pd.set_option(\"display.max_columns\", None)"
      ]
    },
    {
      "cell_type": "code",
      "execution_count": 4,
      "metadata": {
        "colab": {
          "base_uri": "https://localhost:8080/",
          "height": 206
        },
        "id": "cEpbvP5E1sBk",
        "outputId": "09c6e7d9-39fe-420d-a2e5-d702f0739e9c"
      },
      "outputs": [],
      "source": [
        "# for some reason, the datafrane had the id twice, we'll drop it, as we'll drop the last columns with the video recomended \n",
        "nodes.drop(\"id.1\", inplace = True, axis = 1 )\n",
        "nodes.drop(nodes.iloc[:, 9:], inplace=True, axis=1)"
      ]
    },
    {
      "cell_type": "markdown",
      "metadata": {
        "id": "lIYSbFb8cDMQ"
      },
      "source": [
        "## Basic properties of the network"
      ]
    },
    {
      "cell_type": "code",
      "execution_count": 5,
      "metadata": {
        "colab": {
          "base_uri": "https://localhost:8080/"
        },
        "id": "TxN2UArKcuks",
        "outputId": "13e68e2b-57aa-41ee-ab96-c1f5946957a8"
      },
      "outputs": [
        {
          "name": "stdout",
          "output_type": "stream",
          "text": [
            "####################################### Df info ########################################\n",
            "<class 'pandas.core.frame.DataFrame'>\n",
            "RangeIndex: 154817 entries, 0 to 154816\n",
            "Data columns (total 9 columns):\n",
            " #   Column    Non-Null Count   Dtype  \n",
            "---  ------    --------------   -----  \n",
            " 0   id        154817 non-null  object \n",
            " 1   uploader  154817 non-null  object \n",
            " 2   age       154817 non-null  float64\n",
            " 3   category  154817 non-null  object \n",
            " 4   length    154817 non-null  float64\n",
            " 5   views     154817 non-null  float64\n",
            " 6   rate      154817 non-null  float64\n",
            " 7   ratings   154817 non-null  float64\n",
            " 8   comments  154817 non-null  float64\n",
            "dtypes: float64(6), object(3)\n",
            "memory usage: 10.6+ MB\n",
            "None\n",
            "                 age        length         views           rate  \\\n",
            "count  154817.000000  1.548170e+05  1.548170e+05  154817.000000   \n",
            "mean      607.289671  2.175740e+02  7.741846e+03       3.489661   \n",
            "std       120.578319  2.817809e+03  7.493429e+04       1.884820   \n",
            "min         0.000000  0.000000e+00  0.000000e+00       0.000000   \n",
            "25%       544.000000  7.100000e+01  2.560000e+02       2.670000   \n",
            "50%       633.000000  1.760000e+02  1.018000e+03       4.500000   \n",
            "75%       701.000000  2.790000e+02  4.238000e+03       4.970000   \n",
            "max       743.000000  1.105867e+06  2.413345e+07       5.000000   \n",
            "\n",
            "             ratings       comments  \n",
            "count  154817.000000  154817.000000  \n",
            "mean       20.929549      11.929239  \n",
            "std       109.789675      62.587754  \n",
            "min         0.000000     -57.000000  \n",
            "25%         1.000000       0.000000  \n",
            "50%         4.000000       2.000000  \n",
            "75%        13.000000       8.000000  \n",
            "max     14408.000000    6633.000000  \n",
            "######################################### Shape ########################################\n",
            "(154817, 9)\n",
            "######################################### NA ###########################################\n",
            "id          0\n",
            "uploader    0\n",
            "age         0\n",
            "category    0\n",
            "length      0\n",
            "views       0\n",
            "rate        0\n",
            "ratings     0\n",
            "comments    0\n",
            "dtype: int64\n",
            "############################## Length of unique id #####################################\n",
            "154817\n",
            "################################# Length of data #######################################\n",
            "154817\n",
            "################################### duplicates ########################################\n",
            "0\n"
          ]
        }
      ],
      "source": [
        "# This function will be used for exploring data\n",
        "def check_df(dataframe, head=5):\n",
        "    print(\"####################################### Df info ########################################\")\n",
        "    print(dataframe.info())\n",
        "    print(dataframe.describe())\n",
        "    print(\"######################################### Shape ########################################\")\n",
        "    print(dataframe.shape)\n",
        "    print(\"######################################### NA ###########################################\")\n",
        "    print(dataframe.isnull().sum())\n",
        "    print(\"############################## Length of unique id #####################################\")\n",
        "    print(len(dataframe.id.unique()))\n",
        "    print(\"################################# Length of data #######################################\")\n",
        "    print(len(dataframe))\n",
        "    print(\"################################### duplicates ########################################\")\n",
        "    print(dataframe.duplicated().sum())\n",
        "    \n",
        "\n",
        "\n",
        "check_df(nodes)\n",
        "\n",
        "# for some videos we do not have all the recommendations "
      ]
    },
    {
      "cell_type": "markdown",
      "metadata": {
        "id": "Mwj7OBna5Prf"
      },
      "source": [
        "# Importing edges"
      ]
    },
    {
      "cell_type": "code",
      "execution_count": 6,
      "metadata": {
        "colab": {
          "base_uri": "https://localhost:8080/",
          "height": 112
        },
        "id": "wnODVmpm8CBg",
        "outputId": "cde40d55-ef00-4e25-ed3c-24ad0d775f8b"
      },
      "outputs": [
        {
          "data": {
            "text/html": [
              "<div>\n",
              "<style scoped>\n",
              "    .dataframe tbody tr th:only-of-type {\n",
              "        vertical-align: middle;\n",
              "    }\n",
              "\n",
              "    .dataframe tbody tr th {\n",
              "        vertical-align: top;\n",
              "    }\n",
              "\n",
              "    .dataframe thead th {\n",
              "        text-align: right;\n",
              "    }\n",
              "</style>\n",
              "<table border=\"1\" class=\"dataframe\">\n",
              "  <thead>\n",
              "    <tr style=\"text-align: right;\">\n",
              "      <th></th>\n",
              "      <th>from</th>\n",
              "      <th>to</th>\n",
              "    </tr>\n",
              "  </thead>\n",
              "  <tbody>\n",
              "    <tr>\n",
              "      <th>0</th>\n",
              "      <td>2rwktobtv9s</td>\n",
              "      <td>IqlxYO7YCI8</td>\n",
              "    </tr>\n",
              "    <tr>\n",
              "      <th>1</th>\n",
              "      <td>2rwktobtv9s</td>\n",
              "      <td>FkKWCBWVwQg</td>\n",
              "    </tr>\n",
              "  </tbody>\n",
              "</table>\n",
              "</div>"
            ],
            "text/plain": [
              "          from           to\n",
              "0  2rwktobtv9s  IqlxYO7YCI8\n",
              "1  2rwktobtv9s  FkKWCBWVwQg"
            ]
          },
          "execution_count": 6,
          "metadata": {},
          "output_type": "execute_result"
        }
      ],
      "source": [
        "df_edges = pd.read_csv('edges.csv', sep='\\t')\n",
        "df_edges.head(2)"
      ]
    },
    {
      "cell_type": "markdown",
      "metadata": {
        "id": "ydyASy5j8mFh"
      },
      "source": [
        "# Nodes"
      ]
    },
    {
      "cell_type": "code",
      "execution_count": 18,
      "metadata": {
        "colab": {
          "base_uri": "https://localhost:8080/",
          "height": 112
        },
        "id": "ZUuOkyOm8WF1",
        "outputId": "cb121940-8566-4187-b90c-edcaaa5d827b"
      },
      "outputs": [
        {
          "data": {
            "text/html": [
              "<div>\n",
              "<style scoped>\n",
              "    .dataframe tbody tr th:only-of-type {\n",
              "        vertical-align: middle;\n",
              "    }\n",
              "\n",
              "    .dataframe tbody tr th {\n",
              "        vertical-align: top;\n",
              "    }\n",
              "\n",
              "    .dataframe thead th {\n",
              "        text-align: right;\n",
              "    }\n",
              "</style>\n",
              "<table border=\"1\" class=\"dataframe\">\n",
              "  <thead>\n",
              "    <tr style=\"text-align: right;\">\n",
              "      <th></th>\n",
              "      <th>id</th>\n",
              "      <th>uploader</th>\n",
              "      <th>age</th>\n",
              "      <th>category</th>\n",
              "      <th>length</th>\n",
              "      <th>views</th>\n",
              "      <th>rate</th>\n",
              "      <th>ratings</th>\n",
              "      <th>comments</th>\n",
              "    </tr>\n",
              "  </thead>\n",
              "  <tbody>\n",
              "    <tr>\n",
              "      <th>0</th>\n",
              "      <td>2rwktobtv9s</td>\n",
              "      <td>EA</td>\n",
              "      <td>742.0</td>\n",
              "      <td>Gadgets &amp; Games</td>\n",
              "      <td>83.0</td>\n",
              "      <td>389536.0</td>\n",
              "      <td>2.65</td>\n",
              "      <td>2294.0</td>\n",
              "      <td>268.0</td>\n",
              "    </tr>\n",
              "    <tr>\n",
              "      <th>1</th>\n",
              "      <td>h6Ghupxbj9g</td>\n",
              "      <td>KB42PAH</td>\n",
              "      <td>742.0</td>\n",
              "      <td>Sports</td>\n",
              "      <td>28.0</td>\n",
              "      <td>276207.0</td>\n",
              "      <td>4.57</td>\n",
              "      <td>297.0</td>\n",
              "      <td>424.0</td>\n",
              "    </tr>\n",
              "  </tbody>\n",
              "</table>\n",
              "</div>"
            ],
            "text/plain": [
              "            id uploader    age         category  length     views  rate  \\\n",
              "0  2rwktobtv9s       EA  742.0  Gadgets & Games    83.0  389536.0  2.65   \n",
              "1  h6Ghupxbj9g  KB42PAH  742.0           Sports    28.0  276207.0  4.57   \n",
              "\n",
              "   ratings  comments  \n",
              "0   2294.0     268.0  \n",
              "1    297.0     424.0  "
            ]
          },
          "execution_count": 18,
          "metadata": {},
          "output_type": "execute_result"
        }
      ],
      "source": [
        "nodes.head(2)"
      ]
    },
    {
      "cell_type": "markdown",
      "metadata": {
        "id": "X16me0dU86M3"
      },
      "source": [
        "# Creating the network"
      ]
    },
    {
      "cell_type": "code",
      "execution_count": 11,
      "metadata": {
        "colab": {
          "base_uri": "https://localhost:8080/"
        },
        "id": "FPQlF38m8wHn",
        "outputId": "746d3a4a-f86a-42bc-b421-bd6f2985bf07"
      },
      "outputs": [
        {
          "name": "stdout",
          "output_type": "stream",
          "text": [
            "Largest connected component: 154677 nodes, 853539 edges\n"
          ]
        }
      ],
      "source": [
        "# here we import edges from pandas, otherwise if it was an edgelist file we would have used nx.read_edgelist\n",
        "G = nx.from_pandas_edgelist(df_edges, 'from', 'to')\n",
        "\n",
        "#retrieve largest connected component\n",
        "Gcc = sorted(nx.connected_components(G), key=len, reverse=True) # we sort the connected components\n",
        "G0 = G.subgraph(Gcc[0]) # we just take the first one (the biggest)\n",
        "\n",
        "\n",
        "print(\"Largest connected component: {} nodes, {} edges\".format(\n",
        "        G0.number_of_nodes(), G0.number_of_edges()))"
      ]
    },
    {
      "cell_type": "code",
      "execution_count": 9,
      "metadata": {
        "colab": {
          "base_uri": "https://localhost:8080/"
        },
        "id": "U-XVfwys9E2C",
        "outputId": "e8ba2556-c89e-47ba-f624-021dba5aa21c"
      },
      "outputs": [
        {
          "data": {
            "text/plain": [
              "7"
            ]
          },
          "execution_count": 9,
          "metadata": {},
          "output_type": "execute_result"
        }
      ],
      "source": [
        "# Length of Gcc\n",
        "len(Gcc)"
      ]
    },
    {
      "cell_type": "code",
      "execution_count": 16,
      "metadata": {
        "colab": {
          "base_uri": "https://localhost:8080/"
        },
        "id": "ZarhBQr--V2D",
        "outputId": "c27474ef-5ac6-4218-f095-f3a34fa6d179"
      },
      "outputs": [
        {
          "name": "stdout",
          "output_type": "stream",
          "text": [
            "################# depth of the graph ################\n",
            "11\n",
            "################ max clique size ################\n",
            "22\n",
            "Number of nodes: 154815\n",
            "Number of edges: 855270\n",
            "Min. degree: 1\n",
            "Max. degree: 332\n",
            "Mean degree: 11.04892936730937\n",
            "Median degree: 9.0\n",
            "Density: 7.136905814273496e-05\n"
          ]
        }
      ],
      "source": [
        "def graph_char(graph):\n",
        "\n",
        "    depths_graph = nx.shortest_path_length(G0, source='nn-kFlXplhk', weight=None) # picking one\n",
        "    print(\"################# depth of the graph ################\")\n",
        "    depths = max(depths_graph.values())\n",
        "    print(depths)\n",
        "    print(\"################ max clique size ################\")\n",
        "    clique = nx.algorithms.clique.graph_clique_number(G0)\n",
        "    print(clique)\n",
        " \n",
        "graph_char(G0)\n",
        "\n",
        "\n",
        "#### DAL LAB: \n",
        "\n",
        "# 1.2) Compute various characteristics of the network\n",
        "def compute_network_characteristics(graph):\n",
        "    prop = {}\n",
        "    prop['N'] = graph.number_of_nodes() # number of nodes\n",
        "    prop['M'] = graph.number_of_edges() # number of edges\n",
        "    # degrees = list(dict(G.degree()).values())\n",
        "    degrees = [degree for node, degree in graph.degree()] # degree list\n",
        "    prop['min_degree'] = np.min(degrees) # minimum degree\n",
        "    prop['max_degree'] = np.max(degrees) # maximum degree\n",
        "    prop['mean_degree'] = np.mean(degrees) # mean of node degrees\n",
        "    prop['median_degree'] = np.median(degrees) # median of node degrees\n",
        "    prop['density'] = nx.density(graph) # density of the graph\n",
        "    return prop\n",
        "\n",
        "###################################################################\n",
        "prop = compute_network_characteristics(graph=G)\n",
        "print(\"Number of nodes: {}\".format(prop['N']))\n",
        "print(\"Number of edges: {}\".format(prop['M']))\n",
        "print(\"Min. degree: {}\".format(prop['min_degree']))\n",
        "print(\"Max. degree: {}\".format(prop['max_degree']))\n",
        "print(\"Mean degree: {}\".format(prop['mean_degree']))\n",
        "print(\"Median degree: {}\".format(prop['median_degree']))\n",
        "print(\"Density: {}\".format(prop['density']))"
      ]
    },
    {
      "cell_type": "markdown",
      "metadata": {
        "id": "PghZNSRRMrQV"
      },
      "source": [
        "* To compute the depth, we calculate the shortest paths from the root to every other node and find the maximum shortest path distance. \n",
        "* The diameter of a graph is the largest number of vertices which must be traversed in order to travel from one vertex to another when paths which backtrack, detour, or loop are excluded from consideration. "
      ]
    },
    {
      "cell_type": "markdown",
      "metadata": {
        "id": "v-mrvH3qCkKC"
      },
      "source": [
        "# Let's now consider the nodes alone, and compute some centrality measures"
      ]
    },
    {
      "cell_type": "markdown",
      "metadata": {
        "id": "GG4Zx_RVTr-C"
      },
      "source": [
        "We'll start with centrality. \n",
        "\n",
        "Degree centrality is defined as the number of links incident upon a node (i.e. the number of ties that a node has). If the network is directed (meaning that ties have direction), then two separate measures of degree centrality are defined, namely, indegree and outdegree. Indegree is a count of the number of ties directed to the node (head endpoints) and outdegree is the number of ties that the node directs to others (tail endpoints)\n",
        "\n",
        "* the higher the degree the more central the node is"
      ]
    },
    {
      "cell_type": "markdown",
      "metadata": {},
      "source": [
        "#### Computing degree centrality and degree centrality distribution"
      ]
    },
    {
      "cell_type": "code",
      "execution_count": 21,
      "metadata": {},
      "outputs": [
        {
          "data": {
            "image/png": "[encoded data removed]",
            "text/plain": [
              "<Figure size 432x288 with 1 Axes>"
            ]
          },
          "metadata": {
            "needs_background": "light"
          },
          "output_type": "display_data"
        }
      ],
      "source": [
        "# Import matplotlib\n",
        "import matplotlib.pyplot as plt\n",
        "\n",
        "# Compute the degree centralities: dcs\n",
        "dcs = nx.degree_centrality(G0) \n",
        "    \n",
        "# Get the degree centralities\n",
        "G0_dcs = [dcs[n] for n in G0.nodes]\n",
        "\n",
        "# Plot the degree distribution of users_dcs\n",
        "plt.yscale('log')\n",
        "plt.hist(G0_dcs, bins=20)\n",
        "plt.show()"
      ]
    },
    {
      "cell_type": "code",
      "execution_count": 52,
      "metadata": {
        "colab": {
          "base_uri": "https://localhost:8080/"
        },
        "id": "TK-Ez9wbbW_6",
        "outputId": "466d8da6-139f-4f17-dd6e-7b5fa82f6d93"
      },
      "outputs": [
        {
          "name": "stdout",
          "output_type": "stream",
          "text": [
            "Nodes:  154815\n",
            "Edges:  855270\n",
            "Average degree:  5.524464683654685\n"
          ]
        }
      ],
      "source": [
        "#Average degree in the graph \n",
        "# create_using= nx.DiGraph(), nodetype=int\n",
        "N, K = G.order(), G.size()\n",
        "avg_deg = float(K) / N\n",
        "print(\"Nodes: \", N)\n",
        "print(\"Edges: \", K)\n",
        "print(\"Average degree: \", avg_deg)"
      ]
    },
    {
      "cell_type": "markdown",
      "metadata": {},
      "source": [
        "## Degree distribution"
      ]
    },
    {
      "cell_type": "code",
      "execution_count": 19,
      "metadata": {
        "id": "zyYNko4KgzGf"
      },
      "outputs": [
        {
          "data": {
            "image/png": "[encoded data removed]",
            "text/plain": [
              "<Figure size 432x288 with 1 Axes>"
            ]
          },
          "metadata": {
            "needs_background": "light"
          },
          "output_type": "display_data"
        }
      ],
      "source": [
        "import networkx as nx\n",
        "import matplotlib.pyplot as plt\n",
        "\n",
        "def plot_deg_dist(G):\n",
        "    all_degrees = [ v for _, v in nx.degree(G) ]\n",
        "    unique_degrees = sorted(set(all_degrees))\n",
        "    count_of_degrees = []\n",
        "\n",
        "    for i in unique_degrees:\n",
        "        x = all_degrees.count(i)\n",
        "        count_of_degrees.append(x)\n",
        "\n",
        "    plt.plot(unique_degrees, count_of_degrees)\n",
        "    plt.show()\n",
        "\n",
        "plot_deg_dist(G)"
      ]
    },
    {
      "cell_type": "code",
      "execution_count": 22,
      "metadata": {
        "colab": {
          "base_uri": "https://localhost:8080/",
          "height": 297
        },
        "id": "6ZBvbcHsQDXP",
        "outputId": "696509b5-fe9f-4587-db8f-5d7918208785"
      },
      "outputs": [
        {
          "data": {
            "image/png": "[encoded data removed]",
            "text/plain": [
              "<Figure size 864x288 with 1 Axes>"
            ]
          },
          "metadata": {
            "needs_background": "light"
          },
          "output_type": "display_data"
        }
      ],
      "source": [
        "import matplotlib.pyplot as plt\n",
        "from matplotlib.cm import ScalarMappable\n",
        "import networkx as nx\n",
        "\n",
        "#gc = G.subgraph(max(nx.connected_components(G)))\n",
        "lcc = nx.clustering(G0)\n",
        "\n",
        "fig, ax2  = plt.subplots(ncols=1, figsize=(12, 4))\n",
        "\n",
        "#This is to plot the histogram \n",
        "ax2.hist(lcc.values(), bins=10)\n",
        "ax2.set_xlabel('Clustering')\n",
        "ax2.set_ylabel('Frequency')\n",
        "\n",
        "plt.tight_layout()\n",
        "plt.show()"
      ]
    },
    {
      "cell_type": "markdown",
      "metadata": {
        "id": "9lXcdeEYaS7H"
      },
      "source": [
        "# Analysis of the robustness"
      ]
    },
    {
      "cell_type": "code",
      "execution_count": 51,
      "metadata": {
        "colab": {
          "base_uri": "https://localhost:8080/",
          "height": 265
        },
        "id": "IBx2bO7_XN48",
        "outputId": "2dd24c4b-4412-41e3-a19b-c1c93821e1b2"
      },
      "outputs": [
        {
          "data": {
            "image/png": "[encoded data removed]",
            "text/plain": [
              "<Figure size 432x288 with 1 Axes>"
            ]
          },
          "metadata": {
            "needs_background": "light"
          },
          "output_type": "display_data"
        }
      ],
      "source": [
        "import matplotlib.pyplot as plt\n",
        "\n",
        "def plot_degree_dist(G0):\n",
        "  degrees = [G0.degree(n) for n in G0.nodes()]\n",
        "  plt.hist(degrees)\n",
        "  plt.show()\n",
        "\n",
        "plot_degree_dist(nx.gnp_random_graph(100, 0.5, directed=True))"
      ]
    },
    {
      "cell_type": "markdown",
      "metadata": {
        "id": "eZnqviPpVH_u"
      },
      "source": [
        "Roughly, \n",
        "* 20% of nodes have a degree between 98 and 100\n",
        "* Around 113% between 104 and 107\n"
      ]
    }
  ],
  "metadata": {
    "colab": {
      "name": "EDA_Cate&Sarah.ipynb",
      "provenance": []
    },
    "kernelspec": {
      "display_name": "Python 3",
      "name": "python3"
    },
    "language_info": {
      "codemirror_mode": {
        "name": "ipython",
        "version": 3
      },
      "file_extension": ".py",
      "mimetype": "text/x-python",
      "name": "python",
      "nbconvert_exporter": "python",
      "pygments_lexer": "ipython3",
      "version": "3.8.12"
    }
  },
  "nbformat": 4,
  "nbformat_minor": 0
}
