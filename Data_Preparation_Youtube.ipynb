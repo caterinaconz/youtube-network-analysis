{
  "cells": [
    {
      "cell_type": "code",
      "execution_count": null,
      "id": "69282e6c",
      "metadata": {
        "id": "69282e6c"
      },
      "outputs": [],
      "source": [
        "import os\n",
        "import pandas as pd\n",
        "import networkx as nx\n",
        "from matplotlib import pyplot as plt\n",
        "from tqdm import tqdm"
      ]
    },
    {
      "cell_type": "code",
      "source": [
        "from google.colab import drive\n",
        "drive.mount('/content/drive')"
      ],
      "metadata": {
        "colab": {
          "base_uri": "https://localhost:8080/"
        },
        "id": "BKibAzl49pYa",
        "outputId": "8fe5d4e1-222f-42ad-c8f8-2b371a525bf3"
      },
      "id": "BKibAzl49pYa",
      "execution_count": null,
      "outputs": [
        {
          "output_type": "stream",
          "name": "stdout",
          "text": [
            "Mounted at /content/drive\n"
          ]
        }
      ]
    },
    {
      "cell_type": "code",
      "execution_count": 1,
      "id": "d1567e46",
      "metadata": {
        "id": "d1567e46"
      },
      "outputs": [],
      "source": [
        "files = os.listdir(r\"/content/drive/MyDrive/MLNS/0301/\")[:-1]"
      ]
    },
    {
      "cell_type": "code",
      "source": [
        "files"
      ],
      "metadata": {
        "colab": {
          "base_uri": "https://localhost:8080/"
        },
        "id": "d1oZZj3u95wI",
        "outputId": "ba8331fb-c0c0-494f-8e38-40908b0c3cb4"
      },
      "id": "d1oZZj3u95wI",
      "execution_count": null,
      "outputs": [
        {
          "output_type": "execute_result",
          "data": {
            "text/plain": [
              "['0.txt', '1.txt', '2.txt', '3.txt']"
            ]
          },
          "metadata": {},
          "execution_count": 4
        }
      ]
    },
    {
      "cell_type": "code",
      "source": [
        "columns = [\"id\", \"uploader\",\"age\", \"category\",\"length\",\"views\",\"rate\",\"ratings\",\"comments\"]\n",
        "\n",
        "for i in range(1,21):\n",
        "  columns.append(f\"rec_{i}\")"
      ],
      "metadata": {
        "id": "sJEmjVAL-TkZ"
      },
      "id": "sJEmjVAL-TkZ",
      "execution_count": null,
      "outputs": []
    },
    {
      "cell_type": "code",
      "execution_count": null,
      "id": "cfed50a5",
      "metadata": {
        "colab": {
          "base_uri": "https://localhost:8080/"
        },
        "id": "cfed50a5",
        "outputId": "1a5b42f8-9bc3-4082-e4d0-f0c2ce3a89a6"
      },
      "outputs": [
        {
          "output_type": "stream",
          "name": "stderr",
          "text": [
            "100%|██████████| 4/4 [00:04<00:00,  1.11s/it]\n"
          ]
        }
      ],
      "source": [
        "#we want to open any folder and save just 0.txt\n",
        "df_list = []\n",
        "failed = []\n",
        "for i in tqdm(files):\n",
        "    path = f\"/content/drive/MyDrive/MLNS/0301/{i}\"\n",
        "    try:\n",
        "        df = pd.read_csv(path, sep = '\\t', header= None, names = columns)\n",
        "    except:\n",
        "        print(f\"Error importing file:{i}\")\n",
        "        failed.append(i)\n",
        "        continue\n",
        "    df_list.append(df)"
      ]
    },
    {
      "cell_type": "code",
      "execution_count": null,
      "id": "d870431c",
      "metadata": {
        "id": "d870431c"
      },
      "outputs": [],
      "source": [
        "data = pd.concat(df_list)"
      ]
    },
    {
      "cell_type": "markdown",
      "id": "9ec7f956",
      "metadata": {
        "id": "9ec7f956"
      },
      "source": [
        "# Data Exploration"
      ]
    },
    {
      "cell_type": "code",
      "execution_count": null,
      "id": "46da1f1e",
      "metadata": {
        "colab": {
          "base_uri": "https://localhost:8080/",
          "height": 223
        },
        "id": "46da1f1e",
        "outputId": "dd3d934d-21c0-4bce-ca3a-a897c4e83f99"
      },
      "outputs": [
        {
          "output_type": "execute_result",
          "data": {
            "text/plain": [
              "            id uploader    age         category  length     views  rate  \\\n",
              "0  2rwktobtv9s       EA  742.0  Gadgets & Games    83.0  389536.0  2.65   \n",
              "1  h6Ghupxbj9g  KB42PAH  742.0           Sports    28.0  276207.0  4.57   \n",
              "\n",
              "   ratings  comments        rec_1  ...       rec_11       rec_12       rec_13  \\\n",
              "0   2294.0     268.0  SQI9xPF9rdk  ...  PmRHEQaCFsw  FyuYJsBavBs  VdHsMJRszck   \n",
              "1    297.0     424.0  O1dXfikoYoQ  ...  UZcvur6dBqM  D3PZXxx57-4  _-lcaXabZ8I   \n",
              "\n",
              "        rec_14       rec_15       rec_16       rec_17       rec_18  \\\n",
              "0  uG1Q5LhqpsM  2rwktobtv9s  krT9Pjy9d8s  N4DdAIc_0tY  FkKWCBWVwQg   \n",
              "1  15VIqMXdKHU  8nTFFRtGb4M  1lYXY_eTNY8  bFhohWt2rAA  Hcb9w4KmQU4   \n",
              "\n",
              "        rec_19       rec_20  \n",
              "0  xXfmxQO2xz0  IqlxYO7YCI8  \n",
              "1  KZ1dgZhOObc  rt-ytACeVM0  \n",
              "\n",
              "[2 rows x 29 columns]"
            ],
            "text/html": [
              "\n",
              "  <div id=\"df-20bf4ac9-2a11-4c6f-9ceb-5af776817669\">\n",
              "    <div class=\"colab-df-container\">\n",
              "      <div>\n",
              "<style scoped>\n",
              "    .dataframe tbody tr th:only-of-type {\n",
              "        vertical-align: middle;\n",
              "    }\n",
              "\n",
              "    .dataframe tbody tr th {\n",
              "        vertical-align: top;\n",
              "    }\n",
              "\n",
              "    .dataframe thead th {\n",
              "        text-align: right;\n",
              "    }\n",
              "</style>\n",
              "<table border=\"1\" class=\"dataframe\">\n",
              "  <thead>\n",
              "    <tr style=\"text-align: right;\">\n",
              "      <th></th>\n",
              "      <th>id</th>\n",
              "      <th>uploader</th>\n",
              "      <th>age</th>\n",
              "      <th>category</th>\n",
              "      <th>length</th>\n",
              "      <th>views</th>\n",
              "      <th>rate</th>\n",
              "      <th>ratings</th>\n",
              "      <th>comments</th>\n",
              "      <th>rec_1</th>\n",
              "      <th>...</th>\n",
              "      <th>rec_11</th>\n",
              "      <th>rec_12</th>\n",
              "      <th>rec_13</th>\n",
              "      <th>rec_14</th>\n",
              "      <th>rec_15</th>\n",
              "      <th>rec_16</th>\n",
              "      <th>rec_17</th>\n",
              "      <th>rec_18</th>\n",
              "      <th>rec_19</th>\n",
              "      <th>rec_20</th>\n",
              "    </tr>\n",
              "  </thead>\n",
              "  <tbody>\n",
              "    <tr>\n",
              "      <th>0</th>\n",
              "      <td>2rwktobtv9s</td>\n",
              "      <td>EA</td>\n",
              "      <td>742.0</td>\n",
              "      <td>Gadgets &amp; Games</td>\n",
              "      <td>83.0</td>\n",
              "      <td>389536.0</td>\n",
              "      <td>2.65</td>\n",
              "      <td>2294.0</td>\n",
              "      <td>268.0</td>\n",
              "      <td>SQI9xPF9rdk</td>\n",
              "      <td>...</td>\n",
              "      <td>PmRHEQaCFsw</td>\n",
              "      <td>FyuYJsBavBs</td>\n",
              "      <td>VdHsMJRszck</td>\n",
              "      <td>uG1Q5LhqpsM</td>\n",
              "      <td>2rwktobtv9s</td>\n",
              "      <td>krT9Pjy9d8s</td>\n",
              "      <td>N4DdAIc_0tY</td>\n",
              "      <td>FkKWCBWVwQg</td>\n",
              "      <td>xXfmxQO2xz0</td>\n",
              "      <td>IqlxYO7YCI8</td>\n",
              "    </tr>\n",
              "    <tr>\n",
              "      <th>1</th>\n",
              "      <td>h6Ghupxbj9g</td>\n",
              "      <td>KB42PAH</td>\n",
              "      <td>742.0</td>\n",
              "      <td>Sports</td>\n",
              "      <td>28.0</td>\n",
              "      <td>276207.0</td>\n",
              "      <td>4.57</td>\n",
              "      <td>297.0</td>\n",
              "      <td>424.0</td>\n",
              "      <td>O1dXfikoYoQ</td>\n",
              "      <td>...</td>\n",
              "      <td>UZcvur6dBqM</td>\n",
              "      <td>D3PZXxx57-4</td>\n",
              "      <td>_-lcaXabZ8I</td>\n",
              "      <td>15VIqMXdKHU</td>\n",
              "      <td>8nTFFRtGb4M</td>\n",
              "      <td>1lYXY_eTNY8</td>\n",
              "      <td>bFhohWt2rAA</td>\n",
              "      <td>Hcb9w4KmQU4</td>\n",
              "      <td>KZ1dgZhOObc</td>\n",
              "      <td>rt-ytACeVM0</td>\n",
              "    </tr>\n",
              "  </tbody>\n",
              "</table>\n",
              "<p>2 rows × 29 columns</p>\n",
              "</div>\n",
              "      <button class=\"colab-df-convert\" onclick=\"convertToInteractive('df-20bf4ac9-2a11-4c6f-9ceb-5af776817669')\"\n",
              "              title=\"Convert this dataframe to an interactive table.\"\n",
              "              style=\"display:none;\">\n",
              "        \n",
              "  <svg xmlns=\"http://www.w3.org/2000/svg\" height=\"24px\"viewBox=\"0 0 24 24\"\n",
              "       width=\"24px\">\n",
              "    <path d=\"M0 0h24v24H0V0z\" fill=\"none\"/>\n",
              "    <path d=\"M18.56 5.44l.94 2.06.94-2.06 2.06-.94-2.06-.94-.94-2.06-.94 2.06-2.06.94zm-11 1L8.5 8.5l.94-2.06 2.06-.94-2.06-.94L8.5 2.5l-.94 2.06-2.06.94zm10 10l.94 2.06.94-2.06 2.06-.94-2.06-.94-.94-2.06-.94 2.06-2.06.94z\"/><path d=\"M17.41 7.96l-1.37-1.37c-.4-.4-.92-.59-1.43-.59-.52 0-1.04.2-1.43.59L10.3 9.45l-7.72 7.72c-.78.78-.78 2.05 0 2.83L4 21.41c.39.39.9.59 1.41.59.51 0 1.02-.2 1.41-.59l7.78-7.78 2.81-2.81c.8-.78.8-2.07 0-2.86zM5.41 20L4 18.59l7.72-7.72 1.47 1.35L5.41 20z\"/>\n",
              "  </svg>\n",
              "      </button>\n",
              "      \n",
              "  <style>\n",
              "    .colab-df-container {\n",
              "      display:flex;\n",
              "      flex-wrap:wrap;\n",
              "      gap: 12px;\n",
              "    }\n",
              "\n",
              "    .colab-df-convert {\n",
              "      background-color: #E8F0FE;\n",
              "      border: none;\n",
              "      border-radius: 50%;\n",
              "      cursor: pointer;\n",
              "      display: none;\n",
              "      fill: #1967D2;\n",
              "      height: 32px;\n",
              "      padding: 0 0 0 0;\n",
              "      width: 32px;\n",
              "    }\n",
              "\n",
              "    .colab-df-convert:hover {\n",
              "      background-color: #E2EBFA;\n",
              "      box-shadow: 0px 1px 2px rgba(60, 64, 67, 0.3), 0px 1px 3px 1px rgba(60, 64, 67, 0.15);\n",
              "      fill: #174EA6;\n",
              "    }\n",
              "\n",
              "    [theme=dark] .colab-df-convert {\n",
              "      background-color: #3B4455;\n",
              "      fill: #D2E3FC;\n",
              "    }\n",
              "\n",
              "    [theme=dark] .colab-df-convert:hover {\n",
              "      background-color: #434B5C;\n",
              "      box-shadow: 0px 1px 3px 1px rgba(0, 0, 0, 0.15);\n",
              "      filter: drop-shadow(0px 1px 2px rgba(0, 0, 0, 0.3));\n",
              "      fill: #FFFFFF;\n",
              "    }\n",
              "  </style>\n",
              "\n",
              "      <script>\n",
              "        const buttonEl =\n",
              "          document.querySelector('#df-20bf4ac9-2a11-4c6f-9ceb-5af776817669 button.colab-df-convert');\n",
              "        buttonEl.style.display =\n",
              "          google.colab.kernel.accessAllowed ? 'block' : 'none';\n",
              "\n",
              "        async function convertToInteractive(key) {\n",
              "          const element = document.querySelector('#df-20bf4ac9-2a11-4c6f-9ceb-5af776817669');\n",
              "          const dataTable =\n",
              "            await google.colab.kernel.invokeFunction('convertToInteractive',\n",
              "                                                     [key], {});\n",
              "          if (!dataTable) return;\n",
              "\n",
              "          const docLinkHtml = 'Like what you see? Visit the ' +\n",
              "            '<a target=\"_blank\" href=https://colab.research.google.com/notebooks/data_table.ipynb>data table notebook</a>'\n",
              "            + ' to learn more about interactive tables.';\n",
              "          element.innerHTML = '';\n",
              "          dataTable['output_type'] = 'display_data';\n",
              "          await google.colab.output.renderOutput(dataTable, element);\n",
              "          const docLink = document.createElement('div');\n",
              "          docLink.innerHTML = docLinkHtml;\n",
              "          element.appendChild(docLink);\n",
              "        }\n",
              "      </script>\n",
              "    </div>\n",
              "  </div>\n",
              "  "
            ]
          },
          "metadata": {},
          "execution_count": 8
        }
      ],
      "source": [
        "data.head(2)"
      ]
    },
    {
      "cell_type": "code",
      "execution_count": null,
      "id": "22d3bd89",
      "metadata": {
        "colab": {
          "base_uri": "https://localhost:8080/"
        },
        "id": "22d3bd89",
        "outputId": "24eb69d3-5624-4cf4-ee19-6f3018b714ca"
      },
      "outputs": [
        {
          "output_type": "execute_result",
          "data": {
            "text/plain": [
              "155513"
            ]
          },
          "metadata": {},
          "execution_count": 9
        }
      ],
      "source": [
        "len(data.id.unique())"
      ]
    },
    {
      "cell_type": "code",
      "execution_count": null,
      "id": "544bf8c3",
      "metadata": {
        "colab": {
          "base_uri": "https://localhost:8080/"
        },
        "id": "544bf8c3",
        "outputId": "0f0354f1-000d-4c57-bdc6-0f2501e2fe85"
      },
      "outputs": [
        {
          "output_type": "execute_result",
          "data": {
            "text/plain": [
              "155513"
            ]
          },
          "metadata": {},
          "execution_count": 10
        }
      ],
      "source": [
        "len(data)"
      ]
    },
    {
      "cell_type": "code",
      "execution_count": null,
      "id": "dada194a",
      "metadata": {
        "id": "dada194a"
      },
      "outputs": [],
      "source": [
        "data.index = data.id"
      ]
    },
    {
      "cell_type": "code",
      "source": [
        "data = data.drop(\"id\", axis =1)"
      ],
      "metadata": {
        "id": "dX9cfKUpBrPU"
      },
      "id": "dX9cfKUpBrPU",
      "execution_count": null,
      "outputs": []
    },
    {
      "cell_type": "code",
      "source": [
        "#there are some video for which we have just missing values\n",
        "len(data[data.isnull().all(axis=1)])"
      ],
      "metadata": {
        "colab": {
          "base_uri": "https://localhost:8080/"
        },
        "id": "2LpCV8NsCQsq",
        "outputId": "f806489c-7d07-451e-8a51-399c8b4d6e0f"
      },
      "id": "2LpCV8NsCQsq",
      "execution_count": null,
      "outputs": [
        {
          "output_type": "execute_result",
          "data": {
            "text/plain": [
              "696"
            ]
          },
          "metadata": {},
          "execution_count": 13
        }
      ]
    },
    {
      "cell_type": "code",
      "source": [
        "#we keep just the video for which we have the information\n",
        "data = data[data.notnull().any(axis=1)]"
      ],
      "metadata": {
        "id": "93UA0CrdBxFa"
      },
      "id": "93UA0CrdBxFa",
      "execution_count": null,
      "outputs": []
    },
    {
      "cell_type": "code",
      "source": [
        "#sometime not all the recommendations are available\n",
        "data.isna().sum()"
      ],
      "metadata": {
        "colab": {
          "base_uri": "https://localhost:8080/"
        },
        "id": "_zav6OxnCw1M",
        "outputId": "c03870fb-a615-449c-cadc-8fc0b4115ce1"
      },
      "id": "_zav6OxnCw1M",
      "execution_count": null,
      "outputs": [
        {
          "output_type": "execute_result",
          "data": {
            "text/plain": [
              "uploader        0\n",
              "age             0\n",
              "category        0\n",
              "length          0\n",
              "views           0\n",
              "rate            0\n",
              "ratings         0\n",
              "comments        0\n",
              "rec_1        3219\n",
              "rec_2        3786\n",
              "rec_3        4212\n",
              "rec_4        4578\n",
              "rec_5        4895\n",
              "rec_6        5169\n",
              "rec_7        5414\n",
              "rec_8        5685\n",
              "rec_9        5926\n",
              "rec_10       6255\n",
              "rec_11       6501\n",
              "rec_12       6769\n",
              "rec_13       7010\n",
              "rec_14       7185\n",
              "rec_15       7376\n",
              "rec_16       7599\n",
              "rec_17       7814\n",
              "rec_18       8106\n",
              "rec_19       8738\n",
              "rec_20      10277\n",
              "dtype: int64"
            ]
          },
          "metadata": {},
          "execution_count": 15
        }
      ]
    },
    {
      "cell_type": "code",
      "source": [
        "ids = data.index.tolist()"
      ],
      "metadata": {
        "id": "6r8YeDpoErYa"
      },
      "id": "6r8YeDpoErYa",
      "execution_count": null,
      "outputs": []
    },
    {
      "cell_type": "code",
      "source": [
        "reccomendations_id = []\n",
        "for i in tqdm(range(1,21)):\n",
        "  id = data[f\"rec_{i}\"].unique().tolist()\n",
        "  for n in id:\n",
        "    reccomendations_id.append(n)\n"
      ],
      "metadata": {
        "colab": {
          "base_uri": "https://localhost:8080/"
        },
        "id": "SoDqOnHstJr3",
        "outputId": "d4efb45b-edd5-4997-a058-36bc5abddc81"
      },
      "id": "SoDqOnHstJr3",
      "execution_count": null,
      "outputs": [
        {
          "output_type": "stream",
          "name": "stderr",
          "text": [
            "100%|██████████| 20/20 [00:01<00:00, 11.88it/s]\n"
          ]
        }
      ]
    },
    {
      "cell_type": "code",
      "source": [
        "len(set(reccomendations_id).intersection(set(ids)))"
      ],
      "metadata": {
        "colab": {
          "base_uri": "https://localhost:8080/"
        },
        "id": "3F6L2GoAt8uE",
        "outputId": "053355f9-ff27-48e0-9ec3-d78f491aaef4"
      },
      "id": "3F6L2GoAt8uE",
      "execution_count": null,
      "outputs": [
        {
          "output_type": "execute_result",
          "data": {
            "text/plain": [
              "154788"
            ]
          },
          "metadata": {},
          "execution_count": 30
        }
      ]
    },
    {
      "cell_type": "code",
      "source": [
        "len(ids)"
      ],
      "metadata": {
        "colab": {
          "base_uri": "https://localhost:8080/"
        },
        "id": "wTc3PXUyuprr",
        "outputId": "4ba7fac8-0899-4ad8-9ff8-ef6132ec53ad"
      },
      "id": "wTc3PXUyuprr",
      "execution_count": null,
      "outputs": [
        {
          "output_type": "execute_result",
          "data": {
            "text/plain": [
              "154817"
            ]
          },
          "metadata": {},
          "execution_count": 32
        }
      ]
    },
    {
      "cell_type": "code",
      "source": [
        "data.insert(loc = 0,\n",
        "          column = 'id',\n",
        "          value = data.index)"
      ],
      "metadata": {
        "id": "4smikr9GvXoq"
      },
      "id": "4smikr9GvXoq",
      "execution_count": null,
      "outputs": []
    },
    {
      "cell_type": "code",
      "source": [
        "data_list = data.values.tolist()"
      ],
      "metadata": {
        "id": "QnHrkWWDu4SN"
      },
      "id": "QnHrkWWDu4SN",
      "execution_count": null,
      "outputs": []
    },
    {
      "cell_type": "code",
      "source": [
        "for i in set(data_list[0][9:]).intersection(set(ids)):\n",
        "  print(i)"
      ],
      "metadata": {
        "colab": {
          "base_uri": "https://localhost:8080/"
        },
        "id": "-b_iGS85vQ_p",
        "outputId": "006254ff-a046-40d2-b4ae-f23a7b7f538f"
      },
      "id": "-b_iGS85vQ_p",
      "execution_count": null,
      "outputs": [
        {
          "output_type": "stream",
          "name": "stdout",
          "text": [
            "IqlxYO7YCI8\n",
            "FkKWCBWVwQg\n",
            "FyuYJsBavBs\n",
            "2rwktobtv9s\n",
            "VnLVtz4Vq18\n",
            "krT9Pjy9d8s\n",
            "U0raaoN6I6M\n",
            "PmRHEQaCFsw\n",
            "OW_Azt-ZFvI\n",
            "2aDGS2ObyS8\n",
            "VdHsMJRszck\n",
            "vURuMxGC53A\n",
            "xXfmxQO2xz0\n",
            "N4DdAIc_0tY\n",
            "1umiJrKfpdk\n",
            "AYNFCy6hvFQ\n",
            "SQI9xPF9rdk\n",
            "uG1Q5LhqpsM\n",
            "1gxK1e5MSYg\n",
            "4q5jSGOcZb8\n"
          ]
        }
      ]
    },
    {
      "cell_type": "code",
      "execution_count": null,
      "id": "49aeb7c8",
      "metadata": {
        "colab": {
          "base_uri": "https://localhost:8080/"
        },
        "id": "49aeb7c8",
        "outputId": "93d10476-65d1-4823-8f2d-33c8320a5278"
      },
      "outputs": [
        {
          "output_type": "stream",
          "name": "stderr",
          "text": [
            "100%|██████████| 154817/154817 [00:04<00:00, 37479.36it/s]\n"
          ]
        }
      ],
      "source": [
        "ids_set = set(ids)\n",
        "edges = []\n",
        "for i in tqdm(data_list):\n",
        "  source = i[0]\n",
        "  targets = set(i[9:]).intersection(ids_set)\n",
        "  for t in targets:\n",
        "    if t == t:\n",
        "      edges.append([source, t])"
      ]
    },
    {
      "cell_type": "markdown",
      "source": [
        "**NOTE**: if we plan to experiment on models that do not use nodes features we could also import all recommended video without checking if we have the information about it."
      ],
      "metadata": {
        "id": "NGwrHPqdFEoC"
      },
      "id": "NGwrHPqdFEoC"
    },
    {
      "cell_type": "markdown",
      "id": "8ff9b773",
      "metadata": {
        "id": "8ff9b773"
      },
      "source": [
        "# Save all the datasets"
      ]
    },
    {
      "cell_type": "code",
      "execution_count": null,
      "id": "f68695fb",
      "metadata": {
        "id": "f68695fb"
      },
      "outputs": [],
      "source": [
        "#save initial dataset just for safety\n",
        "data.to_csv(\"/content/drive/MyDrive/MLNS/youtube_raw.csv\")"
      ]
    },
    {
      "cell_type": "code",
      "execution_count": null,
      "id": "6ae1fbd8",
      "metadata": {
        "colab": {
          "base_uri": "https://localhost:8080/",
          "height": 112
        },
        "id": "6ae1fbd8",
        "outputId": "c92d1df8-a3fa-4678-fe27-ca493a6997d9"
      },
      "outputs": [
        {
          "output_type": "execute_result",
          "data": {
            "text/plain": [
              "          from           to\n",
              "0  2rwktobtv9s  IqlxYO7YCI8\n",
              "1  2rwktobtv9s  FkKWCBWVwQg"
            ],
            "text/html": [
              "\n",
              "  <div id=\"df-e8de6480-50d4-468c-b2d2-cb1ef487dc7f\">\n",
              "    <div class=\"colab-df-container\">\n",
              "      <div>\n",
              "<style scoped>\n",
              "    .dataframe tbody tr th:only-of-type {\n",
              "        vertical-align: middle;\n",
              "    }\n",
              "\n",
              "    .dataframe tbody tr th {\n",
              "        vertical-align: top;\n",
              "    }\n",
              "\n",
              "    .dataframe thead th {\n",
              "        text-align: right;\n",
              "    }\n",
              "</style>\n",
              "<table border=\"1\" class=\"dataframe\">\n",
              "  <thead>\n",
              "    <tr style=\"text-align: right;\">\n",
              "      <th></th>\n",
              "      <th>from</th>\n",
              "      <th>to</th>\n",
              "    </tr>\n",
              "  </thead>\n",
              "  <tbody>\n",
              "    <tr>\n",
              "      <th>0</th>\n",
              "      <td>2rwktobtv9s</td>\n",
              "      <td>IqlxYO7YCI8</td>\n",
              "    </tr>\n",
              "    <tr>\n",
              "      <th>1</th>\n",
              "      <td>2rwktobtv9s</td>\n",
              "      <td>FkKWCBWVwQg</td>\n",
              "    </tr>\n",
              "  </tbody>\n",
              "</table>\n",
              "</div>\n",
              "      <button class=\"colab-df-convert\" onclick=\"convertToInteractive('df-e8de6480-50d4-468c-b2d2-cb1ef487dc7f')\"\n",
              "              title=\"Convert this dataframe to an interactive table.\"\n",
              "              style=\"display:none;\">\n",
              "        \n",
              "  <svg xmlns=\"http://www.w3.org/2000/svg\" height=\"24px\"viewBox=\"0 0 24 24\"\n",
              "       width=\"24px\">\n",
              "    <path d=\"M0 0h24v24H0V0z\" fill=\"none\"/>\n",
              "    <path d=\"M18.56 5.44l.94 2.06.94-2.06 2.06-.94-2.06-.94-.94-2.06-.94 2.06-2.06.94zm-11 1L8.5 8.5l.94-2.06 2.06-.94-2.06-.94L8.5 2.5l-.94 2.06-2.06.94zm10 10l.94 2.06.94-2.06 2.06-.94-2.06-.94-.94-2.06-.94 2.06-2.06.94z\"/><path d=\"M17.41 7.96l-1.37-1.37c-.4-.4-.92-.59-1.43-.59-.52 0-1.04.2-1.43.59L10.3 9.45l-7.72 7.72c-.78.78-.78 2.05 0 2.83L4 21.41c.39.39.9.59 1.41.59.51 0 1.02-.2 1.41-.59l7.78-7.78 2.81-2.81c.8-.78.8-2.07 0-2.86zM5.41 20L4 18.59l7.72-7.72 1.47 1.35L5.41 20z\"/>\n",
              "  </svg>\n",
              "      </button>\n",
              "      \n",
              "  <style>\n",
              "    .colab-df-container {\n",
              "      display:flex;\n",
              "      flex-wrap:wrap;\n",
              "      gap: 12px;\n",
              "    }\n",
              "\n",
              "    .colab-df-convert {\n",
              "      background-color: #E8F0FE;\n",
              "      border: none;\n",
              "      border-radius: 50%;\n",
              "      cursor: pointer;\n",
              "      display: none;\n",
              "      fill: #1967D2;\n",
              "      height: 32px;\n",
              "      padding: 0 0 0 0;\n",
              "      width: 32px;\n",
              "    }\n",
              "\n",
              "    .colab-df-convert:hover {\n",
              "      background-color: #E2EBFA;\n",
              "      box-shadow: 0px 1px 2px rgba(60, 64, 67, 0.3), 0px 1px 3px 1px rgba(60, 64, 67, 0.15);\n",
              "      fill: #174EA6;\n",
              "    }\n",
              "\n",
              "    [theme=dark] .colab-df-convert {\n",
              "      background-color: #3B4455;\n",
              "      fill: #D2E3FC;\n",
              "    }\n",
              "\n",
              "    [theme=dark] .colab-df-convert:hover {\n",
              "      background-color: #434B5C;\n",
              "      box-shadow: 0px 1px 3px 1px rgba(0, 0, 0, 0.15);\n",
              "      filter: drop-shadow(0px 1px 2px rgba(0, 0, 0, 0.3));\n",
              "      fill: #FFFFFF;\n",
              "    }\n",
              "  </style>\n",
              "\n",
              "      <script>\n",
              "        const buttonEl =\n",
              "          document.querySelector('#df-e8de6480-50d4-468c-b2d2-cb1ef487dc7f button.colab-df-convert');\n",
              "        buttonEl.style.display =\n",
              "          google.colab.kernel.accessAllowed ? 'block' : 'none';\n",
              "\n",
              "        async function convertToInteractive(key) {\n",
              "          const element = document.querySelector('#df-e8de6480-50d4-468c-b2d2-cb1ef487dc7f');\n",
              "          const dataTable =\n",
              "            await google.colab.kernel.invokeFunction('convertToInteractive',\n",
              "                                                     [key], {});\n",
              "          if (!dataTable) return;\n",
              "\n",
              "          const docLinkHtml = 'Like what you see? Visit the ' +\n",
              "            '<a target=\"_blank\" href=https://colab.research.google.com/notebooks/data_table.ipynb>data table notebook</a>'\n",
              "            + ' to learn more about interactive tables.';\n",
              "          element.innerHTML = '';\n",
              "          dataTable['output_type'] = 'display_data';\n",
              "          await google.colab.output.renderOutput(dataTable, element);\n",
              "          const docLink = document.createElement('div');\n",
              "          docLink.innerHTML = docLinkHtml;\n",
              "          element.appendChild(docLink);\n",
              "        }\n",
              "      </script>\n",
              "    </div>\n",
              "  </div>\n",
              "  "
            ]
          },
          "metadata": {},
          "execution_count": 54
        }
      ],
      "source": [
        "#convert edge list in dataframe\n",
        "df_edges = pd.DataFrame(edges, columns=[\"from\", \"to\"])\n",
        "df_edges.head(2)"
      ]
    },
    {
      "cell_type": "code",
      "execution_count": null,
      "id": "a6be74b4",
      "metadata": {
        "id": "a6be74b4"
      },
      "outputs": [],
      "source": [
        "df_edges.to_csv(\"/content/drive/MyDrive/MLNS/edges.csv\", sep = \"\\t\", index = False)"
      ]
    },
    {
      "cell_type": "code",
      "execution_count": null,
      "id": "6fb6dcad",
      "metadata": {
        "id": "6fb6dcad",
        "outputId": "e0a46eba-9f4f-4b77-a547-ab39d6dc1ab6"
      },
      "outputs": [
        {
          "name": "stdout",
          "output_type": "stream",
          "text": [
            "17365\n"
          ]
        },
        {
          "data": {
            "text/html": [
              "<div>\n",
              "<style scoped>\n",
              "    .dataframe tbody tr th:only-of-type {\n",
              "        vertical-align: middle;\n",
              "    }\n",
              "\n",
              "    .dataframe tbody tr th {\n",
              "        vertical-align: top;\n",
              "    }\n",
              "\n",
              "    .dataframe thead th {\n",
              "        text-align: right;\n",
              "    }\n",
              "</style>\n",
              "<table border=\"1\" class=\"dataframe\">\n",
              "  <thead>\n",
              "    <tr style=\"text-align: right;\">\n",
              "      <th></th>\n",
              "      <th>id</th>\n",
              "      <th>channel</th>\n",
              "      <th>age</th>\n",
              "      <th>category</th>\n",
              "      <th>length</th>\n",
              "      <th>views</th>\n",
              "      <th>rate</th>\n",
              "      <th>ratings</th>\n",
              "      <th>comments</th>\n",
              "    </tr>\n",
              "  </thead>\n",
              "  <tbody>\n",
              "    <tr>\n",
              "      <th>0</th>\n",
              "      <td>LKh7zAJ4nwo</td>\n",
              "      <td>TheReceptionist</td>\n",
              "      <td>653.0</td>\n",
              "      <td>Entertainment</td>\n",
              "      <td>424.0</td>\n",
              "      <td>13021.0</td>\n",
              "      <td>4.34</td>\n",
              "      <td>1305.0</td>\n",
              "      <td>744.0</td>\n",
              "    </tr>\n",
              "    <tr>\n",
              "      <th>1</th>\n",
              "      <td>7D0Mf4Kn4Xk</td>\n",
              "      <td>periurban</td>\n",
              "      <td>583.0</td>\n",
              "      <td>Music</td>\n",
              "      <td>201.0</td>\n",
              "      <td>6508.0</td>\n",
              "      <td>4.19</td>\n",
              "      <td>687.0</td>\n",
              "      <td>312.0</td>\n",
              "    </tr>\n",
              "  </tbody>\n",
              "</table>\n",
              "</div>"
            ],
            "text/plain": [
              "            id          channel    age       category  length    views  rate  \\\n",
              "0  LKh7zAJ4nwo  TheReceptionist  653.0  Entertainment   424.0  13021.0  4.34   \n",
              "1  7D0Mf4Kn4Xk        periurban  583.0          Music   201.0   6508.0  4.19   \n",
              "\n",
              "   ratings  comments  \n",
              "0   1305.0     744.0  \n",
              "1    687.0     312.0  "
            ]
          },
          "execution_count": 122,
          "metadata": {},
          "output_type": "execute_result"
        }
      ],
      "source": [
        "nodes = data.iloc[:,:9]\n",
        "print(len(nodes))\n",
        "nodes.head(2)\n"
      ]
    },
    {
      "cell_type": "markdown",
      "id": "0e4619b1",
      "metadata": {
        "id": "0e4619b1"
      },
      "source": [
        "# Create network"
      ]
    },
    {
      "cell_type": "code",
      "execution_count": null,
      "id": "83aa3ac5",
      "metadata": {
        "id": "83aa3ac5"
      },
      "outputs": [],
      "source": [
        "G = nx.from_pandas_edgelist(df_edges, 'from', 'to')\n",
        "\n",
        "#retrieve largest connected component\n",
        "Gcc = sorted(nx.connected_components(G), key=len, reverse=True)\n",
        "G0 = G.subgraph(Gcc[0])"
      ]
    },
    {
      "cell_type": "code",
      "source": [
        "len(G0.nodes)"
      ],
      "metadata": {
        "colab": {
          "base_uri": "https://localhost:8080/"
        },
        "id": "Ezuml-Blz2Pq",
        "outputId": "2e0792d4-9900-4f9e-a913-5db33d5f22f5"
      },
      "id": "Ezuml-Blz2Pq",
      "execution_count": null,
      "outputs": [
        {
          "output_type": "execute_result",
          "data": {
            "text/plain": [
              "154677"
            ]
          },
          "metadata": {},
          "execution_count": 69
        }
      ]
    },
    {
      "cell_type": "code",
      "source": [
        "len(list(nx.connected_components(G)))"
      ],
      "metadata": {
        "colab": {
          "base_uri": "https://localhost:8080/"
        },
        "id": "9NOoLHoox0Jw",
        "outputId": "4c17753a-b86c-49d6-8428-e1a338191099"
      },
      "id": "9NOoLHoox0Jw",
      "execution_count": null,
      "outputs": [
        {
          "output_type": "execute_result",
          "data": {
            "text/plain": [
              "7"
            ]
          },
          "metadata": {},
          "execution_count": 60
        }
      ]
    }
  ],
  "metadata": {
    "kernelspec": {
      "display_name": "Python 3",
      "language": "python",
      "name": "python3"
    },
    "language_info": {
      "codemirror_mode": {
        "name": "ipython",
        "version": 3
      },
      "file_extension": ".py",
      "mimetype": "text/x-python",
      "name": "python",
      "nbconvert_exporter": "python",
      "pygments_lexer": "ipython3",
      "version": "3.8.8"
    },
    "colab": {
      "name": "Copy of Data Preparation Youtube.ipynb",
      "provenance": [],
      "collapsed_sections": []
    }
  },
  "nbformat": 4,
  "nbformat_minor": 5
}