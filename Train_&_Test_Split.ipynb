{
  "cells": [
    {
      "cell_type": "code",
      "execution_count": 12,
      "metadata": {
        "colab": {
          "base_uri": "https://localhost:8080/",
          "height": 365
        },
        "id": "2nYpTipy1gIC",
        "outputId": "424a1f9f-082b-4342-c0e4-e6fd0ff907cd"
      },
      "outputs": [],
      "source": [
        "import networkx as nx\n",
        "import pandas as pd\n",
        "from stellargraph.data import EdgeSplitter\n",
        "from networkx import write_edgelist"
      ]
    },
    {
      "cell_type": "code",
      "execution_count": 6,
      "metadata": {
        "id": "OYPmEsCg1n2c"
      },
      "outputs": [],
      "source": [
        "edges = pd.read_csv(\"edges.csv\", sep = \"\\t\")\n",
        "edges.columns = [\"source\", \"target\"]"
      ]
    },
    {
      "cell_type": "markdown",
      "metadata": {
        "id": "BGg90de8W4w0"
      },
      "source": [
        "## Extract biggest connected component"
      ]
    },
    {
      "cell_type": "code",
      "execution_count": 9,
      "metadata": {
        "id": "_f_Tnxsr2nH_"
      },
      "outputs": [],
      "source": [
        "G = nx.Graph()\n",
        "G.add_edges_from(edges.values.tolist())\n",
        "\n",
        "#retrieve largest connected component\n",
        "Gcc = sorted(nx.connected_components(G), key=len, reverse=True)\n",
        "G0 = G.subgraph(Gcc[0])"
      ]
    },
    {
      "cell_type": "markdown",
      "metadata": {
        "id": "V8elbeI7W970"
      },
      "source": [
        "## Split in train and test"
      ]
    },
    {
      "cell_type": "markdown",
      "metadata": {
        "id": "OGbxFmXFXG1v"
      },
      "source": [
        "From the original graph G, extract a randomly sampled subset of test edges (true and false citation links) and the reduced graph G_test with the positive test edges removed.\n",
        "\n",
        "The Test Graph is the reduced graph we obtain from removing the test set of links from the full graph."
      ]
    },
    {
      "cell_type": "code",
      "execution_count": 10,
      "metadata": {
        "colab": {
          "base_uri": "https://localhost:8080/"
        },
        "id": "sXJ7WSEnEfq0",
        "outputId": "ec28c1ff-00d2-43d9-f17e-11f32479402b"
      },
      "outputs": [
        {
          "name": "stdout",
          "output_type": "stream",
          "text": [
            "** Sampled 85353 positive and 85353 negative edges. **\n"
          ]
        }
      ],
      "source": [
        "edge_splitter_test = EdgeSplitter(G0)\n",
        "G_test, edge_ids_test, edge_labels_test =edge_splitter_test.train_test_split(\n",
        "    p = 0.1, method = \"global\", keep_connected = True\n",
        ")"
      ]
    },
    {
      "cell_type": "markdown",
      "metadata": {
        "id": "qyAyk94PXxgO"
      },
      "source": [
        "The reduced graph G_test, together with the test ground truth set of links (edge_ids_test, edge_labels_test), will be used for testing the model."
      ]
    },
    {
      "cell_type": "markdown",
      "metadata": {
        "id": "brP69q3qXoXG"
      },
      "source": [
        " From the reduced graph G_test, extract a randomly sampled subset of train edges (true and false citation links) and the reduced graph G_train with the positive train edges removed:"
      ]
    },
    {
      "cell_type": "code",
      "execution_count": 17,
      "metadata": {
        "colab": {
          "base_uri": "https://localhost:8080/"
        },
        "id": "SfQkUY77HFq8",
        "outputId": "27a7c95d-f532-48b1-b9cd-2ca3ead420dd"
      },
      "outputs": [
        {
          "name": "stdout",
          "output_type": "stream",
          "text": [
            "** Sampled 153637 positive and 153637 negative edges. **\n"
          ]
        }
      ],
      "source": [
        "edge_splitter_train = EdgeSplitter(G_test)\n",
        "G_train, edge_ids_train, edge_labels_train =edge_splitter_train.train_test_split(\n",
        "    p = 0.2, method = \"global\", keep_connected = True\n",
        ")"
      ]
    },
    {
      "cell_type": "markdown",
      "metadata": {
        "id": "ZEehPn-tX4lb"
      },
      "source": [
        "G_train, together with the train ground truth set of links (edge_ids_train, edge_labels_train), will be used for training the model.\n",
        "\n",
        "G_train and G_test have the same set of nodes, only differing in their edge sets.\n",
        "\n",
        "\n",
        "**Features for the train_set needs to  be computed on G_train, while feautures on the test_set needs to be computed on G_test**"
      ]
    },
    {
      "cell_type": "code",
      "execution_count": 14,
      "metadata": {
        "colab": {
          "base_uri": "https://localhost:8080/",
          "height": 206
        },
        "id": "Vy1b6bRCZqm5",
        "outputId": "28e68114-960f-4056-9c16-7386ec4239a5"
      },
      "outputs": [
        {
          "data": {
            "text/html": [
              "<div>\n",
              "<style scoped>\n",
              "    .dataframe tbody tr th:only-of-type {\n",
              "        vertical-align: middle;\n",
              "    }\n",
              "\n",
              "    .dataframe tbody tr th {\n",
              "        vertical-align: top;\n",
              "    }\n",
              "\n",
              "    .dataframe thead th {\n",
              "        text-align: right;\n",
              "    }\n",
              "</style>\n",
              "<table border=\"1\" class=\"dataframe\">\n",
              "  <thead>\n",
              "    <tr style=\"text-align: right;\">\n",
              "      <th></th>\n",
              "      <th>Source</th>\n",
              "      <th>Target</th>\n",
              "      <th>Edge</th>\n",
              "    </tr>\n",
              "  </thead>\n",
              "  <tbody>\n",
              "    <tr>\n",
              "      <th>0</th>\n",
              "      <td>rGBhluYrbzU</td>\n",
              "      <td>XZ8tdf1gyHI</td>\n",
              "      <td>1</td>\n",
              "    </tr>\n",
              "    <tr>\n",
              "      <th>1</th>\n",
              "      <td>ClQHYZqW_Ns</td>\n",
              "      <td>fvjGMoE7oSU</td>\n",
              "      <td>1</td>\n",
              "    </tr>\n",
              "    <tr>\n",
              "      <th>2</th>\n",
              "      <td>EfvQAu6NRrk</td>\n",
              "      <td>1Ex1ZcQJEv8</td>\n",
              "      <td>1</td>\n",
              "    </tr>\n",
              "    <tr>\n",
              "      <th>3</th>\n",
              "      <td>3jiTk_diJCw</td>\n",
              "      <td>PshwMfxvI-I</td>\n",
              "      <td>1</td>\n",
              "    </tr>\n",
              "    <tr>\n",
              "      <th>4</th>\n",
              "      <td>KTNXjOsXpUc</td>\n",
              "      <td>QsHbd8nPFbc</td>\n",
              "      <td>1</td>\n",
              "    </tr>\n",
              "  </tbody>\n",
              "</table>\n",
              "</div>"
            ],
            "text/plain": [
              "        Source       Target  Edge\n",
              "0  rGBhluYrbzU  XZ8tdf1gyHI     1\n",
              "1  ClQHYZqW_Ns  fvjGMoE7oSU     1\n",
              "2  EfvQAu6NRrk  1Ex1ZcQJEv8     1\n",
              "3  3jiTk_diJCw  PshwMfxvI-I     1\n",
              "4  KTNXjOsXpUc  QsHbd8nPFbc     1"
            ]
          },
          "execution_count": 14,
          "metadata": {},
          "output_type": "execute_result"
        }
      ],
      "source": [
        "# if we want we can conver the list of edges with the corresponding label in a dataframe\n",
        "# (not necessary, for example in the kaggle we created the features using lists)\n",
        "test_edges = pd.DataFrame(edge_ids_test, columns = [\"Source\", \"Target\"])\n",
        "test_edges[\"Edge\"] = edge_labels_test\n",
        "test_edges.head(5)"
      ]
    },
    {
      "cell_type": "code",
      "execution_count": 15,
      "metadata": {
        "colab": {
          "base_uri": "https://localhost:8080/",
          "height": 206
        },
        "id": "MGemwBQVaRH8",
        "outputId": "0f824029-9b6c-470d-a866-130e416bf5df"
      },
      "outputs": [
        {
          "data": {
            "text/html": [
              "<div>\n",
              "<style scoped>\n",
              "    .dataframe tbody tr th:only-of-type {\n",
              "        vertical-align: middle;\n",
              "    }\n",
              "\n",
              "    .dataframe tbody tr th {\n",
              "        vertical-align: top;\n",
              "    }\n",
              "\n",
              "    .dataframe thead th {\n",
              "        text-align: right;\n",
              "    }\n",
              "</style>\n",
              "<table border=\"1\" class=\"dataframe\">\n",
              "  <thead>\n",
              "    <tr style=\"text-align: right;\">\n",
              "      <th></th>\n",
              "      <th>Source</th>\n",
              "      <th>Target</th>\n",
              "      <th>Edge</th>\n",
              "    </tr>\n",
              "  </thead>\n",
              "  <tbody>\n",
              "    <tr>\n",
              "      <th>0</th>\n",
              "      <td>xuOtyEjQ-v4</td>\n",
              "      <td>WUvCeCflehk</td>\n",
              "      <td>1</td>\n",
              "    </tr>\n",
              "    <tr>\n",
              "      <th>1</th>\n",
              "      <td>-V1Nw7kIY7o</td>\n",
              "      <td>WNsrs_cjZH8</td>\n",
              "      <td>1</td>\n",
              "    </tr>\n",
              "    <tr>\n",
              "      <th>2</th>\n",
              "      <td>zhdUqcvcdDY</td>\n",
              "      <td>3xdO4n-Vk4Y</td>\n",
              "      <td>1</td>\n",
              "    </tr>\n",
              "    <tr>\n",
              "      <th>3</th>\n",
              "      <td>RVbDwqSq4Ec</td>\n",
              "      <td>J7X2ieNiixE</td>\n",
              "      <td>1</td>\n",
              "    </tr>\n",
              "    <tr>\n",
              "      <th>4</th>\n",
              "      <td>aKWP6f_Wvoc</td>\n",
              "      <td>EQbLNEiM17M</td>\n",
              "      <td>1</td>\n",
              "    </tr>\n",
              "  </tbody>\n",
              "</table>\n",
              "</div>"
            ],
            "text/plain": [
              "        Source       Target  Edge\n",
              "0  xuOtyEjQ-v4  WUvCeCflehk     1\n",
              "1  -V1Nw7kIY7o  WNsrs_cjZH8     1\n",
              "2  zhdUqcvcdDY  3xdO4n-Vk4Y     1\n",
              "3  RVbDwqSq4Ec  J7X2ieNiixE     1\n",
              "4  aKWP6f_Wvoc  EQbLNEiM17M     1"
            ]
          },
          "execution_count": 15,
          "metadata": {},
          "output_type": "execute_result"
        }
      ],
      "source": [
        "train_edges = pd.DataFrame(edge_ids_train, columns = [\"Source\", \"Target\"])\n",
        "train_edges[\"Edge\"] = edge_labels_train\n",
        "train_edges.head(5)"
      ]
    },
    {
      "cell_type": "code",
      "execution_count": 16,
      "metadata": {},
      "outputs": [],
      "source": [
        "#save all files\n",
        "test_edges.to_csv(\"test_set.csv\")\n",
        "train_edges.to_csv(\"train_set.csv\")\n",
        "write_edgelist(G_test, \"test.edgelist\", delimiter=',', data=False)\n",
        "write_edgelist(G_train, \"train.edgelist\", delimiter=',', data=False)"
      ]
    }
  ],
  "metadata": {
    "colab": {
      "collapsed_sections": [],
      "name": "Train & Test Split.ipynb",
      "provenance": []
    },
    "kernelspec": {
      "display_name": "Python 3",
      "name": "python3"
    },
    "language_info": {
      "codemirror_mode": {
        "name": "ipython",
        "version": 3
      },
      "file_extension": ".py",
      "mimetype": "text/x-python",
      "name": "python",
      "nbconvert_exporter": "python",
      "pygments_lexer": "ipython3",
      "version": "3.8.8"
    }
  },
  "nbformat": 4,
  "nbformat_minor": 0
}
