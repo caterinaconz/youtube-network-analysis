{
  "nbformat": 4,
  "nbformat_minor": 0,
  "metadata": {
    "colab": {
      "name": "Train & Test Split.ipynb",
      "provenance": [],
      "collapsed_sections": []
    },
    "kernelspec": {
      "name": "python3",
      "display_name": "Python 3"
    },
    "language_info": {
      "name": "python"
    }
  },
  "cells": [
    {
      "cell_type": "code",
      "source": [
        "import networkx as nx\n",
        "import pandas as pd\n",
        "import numpy as np\n",
        "from tqdm import tqdm \n",
        "from stellargraph import StellarDiGraph\n",
        "from stellargraph.data import EdgeSplitter"
      ],
      "metadata": {
        "id": "2nYpTipy1gIC",
        "colab": {
          "base_uri": "https://localhost:8080/",
          "height": 365
        },
        "outputId": "424a1f9f-082b-4342-c0e4-e6fd0ff907cd"
      },
      "execution_count": 1,
      "outputs": [
        {
          "output_type": "error",
          "ename": "ModuleNotFoundError",
          "evalue": "ignored",
          "traceback": [
            "\u001b[0;31m---------------------------------------------------------------------------\u001b[0m",
            "\u001b[0;31mModuleNotFoundError\u001b[0m                       Traceback (most recent call last)",
            "\u001b[0;32m<ipython-input-1-d6bd0aaaf240>\u001b[0m in \u001b[0;36m<module>\u001b[0;34m()\u001b[0m\n\u001b[1;32m      3\u001b[0m \u001b[0;32mimport\u001b[0m \u001b[0mnumpy\u001b[0m \u001b[0;32mas\u001b[0m \u001b[0mnp\u001b[0m\u001b[0;34m\u001b[0m\u001b[0;34m\u001b[0m\u001b[0m\n\u001b[1;32m      4\u001b[0m \u001b[0;32mfrom\u001b[0m \u001b[0mtqdm\u001b[0m \u001b[0;32mimport\u001b[0m \u001b[0mtqdm\u001b[0m\u001b[0;34m\u001b[0m\u001b[0;34m\u001b[0m\u001b[0m\n\u001b[0;32m----> 5\u001b[0;31m \u001b[0;32mfrom\u001b[0m \u001b[0mstellargraph\u001b[0m \u001b[0;32mimport\u001b[0m \u001b[0mStellarDiGraph\u001b[0m\u001b[0;34m\u001b[0m\u001b[0;34m\u001b[0m\u001b[0m\n\u001b[0m\u001b[1;32m      6\u001b[0m \u001b[0;32mfrom\u001b[0m \u001b[0mstellargraph\u001b[0m\u001b[0;34m.\u001b[0m\u001b[0mdata\u001b[0m \u001b[0;32mimport\u001b[0m \u001b[0mEdgeSplitter\u001b[0m\u001b[0;34m\u001b[0m\u001b[0;34m\u001b[0m\u001b[0m\n",
            "\u001b[0;31mModuleNotFoundError\u001b[0m: No module named 'stellargraph'",
            "",
            "\u001b[0;31m---------------------------------------------------------------------------\u001b[0;32m\nNOTE: If your import is failing due to a missing package, you can\nmanually install dependencies using either !pip or !apt.\n\nTo view examples of installing some common dependencies, click the\n\"Open Examples\" button below.\n\u001b[0;31m---------------------------------------------------------------------------\u001b[0m\n"
          ],
          "errorDetails": {
            "actions": [
              {
                "action": "open_url",
                "actionText": "Open Examples",
                "url": "/notebooks/snippets/importing_libraries.ipynb"
              }
            ]
          }
        }
      ]
    },
    {
      "cell_type": "code",
      "source": [
        "edges = pd.read_csv(\"/content/drive/MyDrive/MLNS/edges.csv\", sep = \"\\t\")\n",
        "edges.columns = [\"source\", \"target\"]"
      ],
      "metadata": {
        "id": "OYPmEsCg1n2c"
      },
      "execution_count": null,
      "outputs": []
    },
    {
      "cell_type": "code",
      "source": [
        "node_info = pd.read_csv(\"/content/drive/MyDrive/MLNS/youtube_raw.csv\", index_col = 0)\n",
        "node_info.drop(\"id.1\",inplace = True, axis = 1)"
      ],
      "metadata": {
        "id": "hQr2Zgt311JA"
      },
      "execution_count": null,
      "outputs": []
    },
    {
      "cell_type": "code",
      "source": [
        "node_info = node_info.iloc[:,0:8]"
      ],
      "metadata": {
        "id": "mWiqs60Q2DVc"
      },
      "execution_count": null,
      "outputs": []
    },
    {
      "cell_type": "markdown",
      "source": [
        "## Extract biggest connected component"
      ],
      "metadata": {
        "id": "BGg90de8W4w0"
      }
    },
    {
      "cell_type": "code",
      "source": [
        "G = nx.Graph()\n",
        "G.add_edges_from(edges.values.tolist())\n",
        "\n",
        "#retrieve largest connected component\n",
        "Gcc = sorted(nx.connected_components(G), key=len, reverse=True)\n",
        "G0 = G.subgraph(Gcc[0])"
      ],
      "metadata": {
        "id": "_f_Tnxsr2nH_"
      },
      "execution_count": null,
      "outputs": []
    },
    {
      "cell_type": "markdown",
      "source": [
        "## Split in train and test"
      ],
      "metadata": {
        "id": "V8elbeI7W970"
      }
    },
    {
      "cell_type": "markdown",
      "source": [
        "From the original graph G, extract a randomly sampled subset of test edges (true and false citation links) and the reduced graph G_test with the positive test edges removed.\n",
        "\n",
        "The Test Graph is the reduced graph we obtain from removing the test set of links from the full graph."
      ],
      "metadata": {
        "id": "OGbxFmXFXG1v"
      }
    },
    {
      "cell_type": "code",
      "source": [
        "edge_splitter_test = EdgeSplitter(G0)\n",
        "G_test, edge_ids_test, edge_labels_test =edge_splitter_test.train_test_split(\n",
        "    p = 0.1, method = \"global\", keep_connected = True\n",
        ")"
      ],
      "metadata": {
        "colab": {
          "base_uri": "https://localhost:8080/"
        },
        "id": "sXJ7WSEnEfq0",
        "outputId": "ec28c1ff-00d2-43d9-f17e-11f32479402b"
      },
      "execution_count": null,
      "outputs": [
        {
          "output_type": "stream",
          "name": "stdout",
          "text": [
            "** Sampled 85353 positive and 85353 negative edges. **\n"
          ]
        }
      ]
    },
    {
      "cell_type": "markdown",
      "source": [
        "The reduced graph G_test, together with the test ground truth set of links (edge_ids_test, edge_labels_test), will be used for testing the model."
      ],
      "metadata": {
        "id": "qyAyk94PXxgO"
      }
    },
    {
      "cell_type": "markdown",
      "source": [
        " From the reduced graph G_test, extract a randomly sampled subset of train edges (true and false citation links) and the reduced graph G_train with the positive train edges removed:"
      ],
      "metadata": {
        "id": "brP69q3qXoXG"
      }
    },
    {
      "cell_type": "code",
      "source": [
        "edge_splitter_train = EdgeSplitter(G_test)\n",
        "G_train, edge_ids_train, edge_labels_train =edge_splitter_train.train_test_split(\n",
        "    p = 0.2, method = \"global\", keep_connected = True\n",
        ")"
      ],
      "metadata": {
        "colab": {
          "base_uri": "https://localhost:8080/"
        },
        "id": "SfQkUY77HFq8",
        "outputId": "27a7c95d-f532-48b1-b9cd-2ca3ead420dd"
      },
      "execution_count": null,
      "outputs": [
        {
          "output_type": "stream",
          "name": "stdout",
          "text": [
            "** Sampled 153637 positive and 153637 negative edges. **\n"
          ]
        }
      ]
    },
    {
      "cell_type": "markdown",
      "source": [
        "G_train, together with the train ground truth set of links (edge_ids_train, edge_labels_train), will be used for training the model.\n",
        "\n",
        "G_train and G_test have the same set of nodes, only differing in their edge sets.\n",
        "\n",
        "\n",
        "**Features for the train_set needs to  be computed on G_train, while feautures on the test_set needs to be computed on G_test**"
      ],
      "metadata": {
        "id": "ZEehPn-tX4lb"
      }
    },
    {
      "cell_type": "code",
      "source": [
        "# if we want we can conver the list of edges with the corresponding label in a dataframe\n",
        "# (not necessary, for example in the kaggle we created the features using lists)\n",
        "test_edges = pd.DataFrame(edge_ids_test, columns = [\"Source\", \"Target\"])\n",
        "test_edges[\"Edge\"] = edge_labels_test\n",
        "test_edges.head(5)"
      ],
      "metadata": {
        "colab": {
          "base_uri": "https://localhost:8080/",
          "height": 206
        },
        "id": "Vy1b6bRCZqm5",
        "outputId": "28e68114-960f-4056-9c16-7386ec4239a5"
      },
      "execution_count": null,
      "outputs": [
        {
          "output_type": "execute_result",
          "data": {
            "text/plain": [
              "        Source       Target  Edge\n",
              "0  Pp7Gdqvml5c  JbEyzt1vGGQ     1\n",
              "1  s56wqvJomhI  aTRd97u4QsQ     1\n",
              "2  horXN2RcIUk  nw8yokel7s4     1\n",
              "3  uADZqpgu5nw  30cn9NcPkQc     1\n",
              "4  sHsUWXR5MOM  J6cNegG6XyA     1"
            ],
            "text/html": [
              "\n",
              "  <div id=\"df-ccd04cd8-ca00-45a9-afbd-c81961bad8dd\">\n",
              "    <div class=\"colab-df-container\">\n",
              "      <div>\n",
              "<style scoped>\n",
              "    .dataframe tbody tr th:only-of-type {\n",
              "        vertical-align: middle;\n",
              "    }\n",
              "\n",
              "    .dataframe tbody tr th {\n",
              "        vertical-align: top;\n",
              "    }\n",
              "\n",
              "    .dataframe thead th {\n",
              "        text-align: right;\n",
              "    }\n",
              "</style>\n",
              "<table border=\"1\" class=\"dataframe\">\n",
              "  <thead>\n",
              "    <tr style=\"text-align: right;\">\n",
              "      <th></th>\n",
              "      <th>Source</th>\n",
              "      <th>Target</th>\n",
              "      <th>Edge</th>\n",
              "    </tr>\n",
              "  </thead>\n",
              "  <tbody>\n",
              "    <tr>\n",
              "      <th>0</th>\n",
              "      <td>Pp7Gdqvml5c</td>\n",
              "      <td>JbEyzt1vGGQ</td>\n",
              "      <td>1</td>\n",
              "    </tr>\n",
              "    <tr>\n",
              "      <th>1</th>\n",
              "      <td>s56wqvJomhI</td>\n",
              "      <td>aTRd97u4QsQ</td>\n",
              "      <td>1</td>\n",
              "    </tr>\n",
              "    <tr>\n",
              "      <th>2</th>\n",
              "      <td>horXN2RcIUk</td>\n",
              "      <td>nw8yokel7s4</td>\n",
              "      <td>1</td>\n",
              "    </tr>\n",
              "    <tr>\n",
              "      <th>3</th>\n",
              "      <td>uADZqpgu5nw</td>\n",
              "      <td>30cn9NcPkQc</td>\n",
              "      <td>1</td>\n",
              "    </tr>\n",
              "    <tr>\n",
              "      <th>4</th>\n",
              "      <td>sHsUWXR5MOM</td>\n",
              "      <td>J6cNegG6XyA</td>\n",
              "      <td>1</td>\n",
              "    </tr>\n",
              "  </tbody>\n",
              "</table>\n",
              "</div>\n",
              "      <button class=\"colab-df-convert\" onclick=\"convertToInteractive('df-ccd04cd8-ca00-45a9-afbd-c81961bad8dd')\"\n",
              "              title=\"Convert this dataframe to an interactive table.\"\n",
              "              style=\"display:none;\">\n",
              "        \n",
              "  <svg xmlns=\"http://www.w3.org/2000/svg\" height=\"24px\"viewBox=\"0 0 24 24\"\n",
              "       width=\"24px\">\n",
              "    <path d=\"M0 0h24v24H0V0z\" fill=\"none\"/>\n",
              "    <path d=\"M18.56 5.44l.94 2.06.94-2.06 2.06-.94-2.06-.94-.94-2.06-.94 2.06-2.06.94zm-11 1L8.5 8.5l.94-2.06 2.06-.94-2.06-.94L8.5 2.5l-.94 2.06-2.06.94zm10 10l.94 2.06.94-2.06 2.06-.94-2.06-.94-.94-2.06-.94 2.06-2.06.94z\"/><path d=\"M17.41 7.96l-1.37-1.37c-.4-.4-.92-.59-1.43-.59-.52 0-1.04.2-1.43.59L10.3 9.45l-7.72 7.72c-.78.78-.78 2.05 0 2.83L4 21.41c.39.39.9.59 1.41.59.51 0 1.02-.2 1.41-.59l7.78-7.78 2.81-2.81c.8-.78.8-2.07 0-2.86zM5.41 20L4 18.59l7.72-7.72 1.47 1.35L5.41 20z\"/>\n",
              "  </svg>\n",
              "      </button>\n",
              "      \n",
              "  <style>\n",
              "    .colab-df-container {\n",
              "      display:flex;\n",
              "      flex-wrap:wrap;\n",
              "      gap: 12px;\n",
              "    }\n",
              "\n",
              "    .colab-df-convert {\n",
              "      background-color: #E8F0FE;\n",
              "      border: none;\n",
              "      border-radius: 50%;\n",
              "      cursor: pointer;\n",
              "      display: none;\n",
              "      fill: #1967D2;\n",
              "      height: 32px;\n",
              "      padding: 0 0 0 0;\n",
              "      width: 32px;\n",
              "    }\n",
              "\n",
              "    .colab-df-convert:hover {\n",
              "      background-color: #E2EBFA;\n",
              "      box-shadow: 0px 1px 2px rgba(60, 64, 67, 0.3), 0px 1px 3px 1px rgba(60, 64, 67, 0.15);\n",
              "      fill: #174EA6;\n",
              "    }\n",
              "\n",
              "    [theme=dark] .colab-df-convert {\n",
              "      background-color: #3B4455;\n",
              "      fill: #D2E3FC;\n",
              "    }\n",
              "\n",
              "    [theme=dark] .colab-df-convert:hover {\n",
              "      background-color: #434B5C;\n",
              "      box-shadow: 0px 1px 3px 1px rgba(0, 0, 0, 0.15);\n",
              "      filter: drop-shadow(0px 1px 2px rgba(0, 0, 0, 0.3));\n",
              "      fill: #FFFFFF;\n",
              "    }\n",
              "  </style>\n",
              "\n",
              "      <script>\n",
              "        const buttonEl =\n",
              "          document.querySelector('#df-ccd04cd8-ca00-45a9-afbd-c81961bad8dd button.colab-df-convert');\n",
              "        buttonEl.style.display =\n",
              "          google.colab.kernel.accessAllowed ? 'block' : 'none';\n",
              "\n",
              "        async function convertToInteractive(key) {\n",
              "          const element = document.querySelector('#df-ccd04cd8-ca00-45a9-afbd-c81961bad8dd');\n",
              "          const dataTable =\n",
              "            await google.colab.kernel.invokeFunction('convertToInteractive',\n",
              "                                                     [key], {});\n",
              "          if (!dataTable) return;\n",
              "\n",
              "          const docLinkHtml = 'Like what you see? Visit the ' +\n",
              "            '<a target=\"_blank\" href=https://colab.research.google.com/notebooks/data_table.ipynb>data table notebook</a>'\n",
              "            + ' to learn more about interactive tables.';\n",
              "          element.innerHTML = '';\n",
              "          dataTable['output_type'] = 'display_data';\n",
              "          await google.colab.output.renderOutput(dataTable, element);\n",
              "          const docLink = document.createElement('div');\n",
              "          docLink.innerHTML = docLinkHtml;\n",
              "          element.appendChild(docLink);\n",
              "        }\n",
              "      </script>\n",
              "    </div>\n",
              "  </div>\n",
              "  "
            ]
          },
          "metadata": {},
          "execution_count": 70
        }
      ]
    },
    {
      "cell_type": "code",
      "source": [
        "train_edges = pd.DataFrame(edge_ids_train, columns = [\"Source\", \"Target\"])\n",
        "train_edges[\"Edge\"] = edge_labels_train\n",
        "train_edges.head(5)"
      ],
      "metadata": {
        "colab": {
          "base_uri": "https://localhost:8080/",
          "height": 206
        },
        "id": "MGemwBQVaRH8",
        "outputId": "0f824029-9b6c-470d-a866-130e416bf5df"
      },
      "execution_count": null,
      "outputs": [
        {
          "output_type": "execute_result",
          "data": {
            "text/plain": [
              "        Source       Target  Edge\n",
              "0  OK-ecbojmGo  oUvRu3WMIa4     1\n",
              "1  zUjdad3Yg2I  OyHXGQPBQm8     1\n",
              "2  GdLTDChmE3U  vwjYiivrJdA     1\n",
              "3  AYxXxqY3hoA  cV_zjocRnbo     1\n",
              "4  zRQXdksI4qk  iaEXfJFNLx0     1"
            ],
            "text/html": [
              "\n",
              "  <div id=\"df-6b0180ee-0a27-44d0-9b30-e9b74255f4c2\">\n",
              "    <div class=\"colab-df-container\">\n",
              "      <div>\n",
              "<style scoped>\n",
              "    .dataframe tbody tr th:only-of-type {\n",
              "        vertical-align: middle;\n",
              "    }\n",
              "\n",
              "    .dataframe tbody tr th {\n",
              "        vertical-align: top;\n",
              "    }\n",
              "\n",
              "    .dataframe thead th {\n",
              "        text-align: right;\n",
              "    }\n",
              "</style>\n",
              "<table border=\"1\" class=\"dataframe\">\n",
              "  <thead>\n",
              "    <tr style=\"text-align: right;\">\n",
              "      <th></th>\n",
              "      <th>Source</th>\n",
              "      <th>Target</th>\n",
              "      <th>Edge</th>\n",
              "    </tr>\n",
              "  </thead>\n",
              "  <tbody>\n",
              "    <tr>\n",
              "      <th>0</th>\n",
              "      <td>OK-ecbojmGo</td>\n",
              "      <td>oUvRu3WMIa4</td>\n",
              "      <td>1</td>\n",
              "    </tr>\n",
              "    <tr>\n",
              "      <th>1</th>\n",
              "      <td>zUjdad3Yg2I</td>\n",
              "      <td>OyHXGQPBQm8</td>\n",
              "      <td>1</td>\n",
              "    </tr>\n",
              "    <tr>\n",
              "      <th>2</th>\n",
              "      <td>GdLTDChmE3U</td>\n",
              "      <td>vwjYiivrJdA</td>\n",
              "      <td>1</td>\n",
              "    </tr>\n",
              "    <tr>\n",
              "      <th>3</th>\n",
              "      <td>AYxXxqY3hoA</td>\n",
              "      <td>cV_zjocRnbo</td>\n",
              "      <td>1</td>\n",
              "    </tr>\n",
              "    <tr>\n",
              "      <th>4</th>\n",
              "      <td>zRQXdksI4qk</td>\n",
              "      <td>iaEXfJFNLx0</td>\n",
              "      <td>1</td>\n",
              "    </tr>\n",
              "  </tbody>\n",
              "</table>\n",
              "</div>\n",
              "      <button class=\"colab-df-convert\" onclick=\"convertToInteractive('df-6b0180ee-0a27-44d0-9b30-e9b74255f4c2')\"\n",
              "              title=\"Convert this dataframe to an interactive table.\"\n",
              "              style=\"display:none;\">\n",
              "        \n",
              "  <svg xmlns=\"http://www.w3.org/2000/svg\" height=\"24px\"viewBox=\"0 0 24 24\"\n",
              "       width=\"24px\">\n",
              "    <path d=\"M0 0h24v24H0V0z\" fill=\"none\"/>\n",
              "    <path d=\"M18.56 5.44l.94 2.06.94-2.06 2.06-.94-2.06-.94-.94-2.06-.94 2.06-2.06.94zm-11 1L8.5 8.5l.94-2.06 2.06-.94-2.06-.94L8.5 2.5l-.94 2.06-2.06.94zm10 10l.94 2.06.94-2.06 2.06-.94-2.06-.94-.94-2.06-.94 2.06-2.06.94z\"/><path d=\"M17.41 7.96l-1.37-1.37c-.4-.4-.92-.59-1.43-.59-.52 0-1.04.2-1.43.59L10.3 9.45l-7.72 7.72c-.78.78-.78 2.05 0 2.83L4 21.41c.39.39.9.59 1.41.59.51 0 1.02-.2 1.41-.59l7.78-7.78 2.81-2.81c.8-.78.8-2.07 0-2.86zM5.41 20L4 18.59l7.72-7.72 1.47 1.35L5.41 20z\"/>\n",
              "  </svg>\n",
              "      </button>\n",
              "      \n",
              "  <style>\n",
              "    .colab-df-container {\n",
              "      display:flex;\n",
              "      flex-wrap:wrap;\n",
              "      gap: 12px;\n",
              "    }\n",
              "\n",
              "    .colab-df-convert {\n",
              "      background-color: #E8F0FE;\n",
              "      border: none;\n",
              "      border-radius: 50%;\n",
              "      cursor: pointer;\n",
              "      display: none;\n",
              "      fill: #1967D2;\n",
              "      height: 32px;\n",
              "      padding: 0 0 0 0;\n",
              "      width: 32px;\n",
              "    }\n",
              "\n",
              "    .colab-df-convert:hover {\n",
              "      background-color: #E2EBFA;\n",
              "      box-shadow: 0px 1px 2px rgba(60, 64, 67, 0.3), 0px 1px 3px 1px rgba(60, 64, 67, 0.15);\n",
              "      fill: #174EA6;\n",
              "    }\n",
              "\n",
              "    [theme=dark] .colab-df-convert {\n",
              "      background-color: #3B4455;\n",
              "      fill: #D2E3FC;\n",
              "    }\n",
              "\n",
              "    [theme=dark] .colab-df-convert:hover {\n",
              "      background-color: #434B5C;\n",
              "      box-shadow: 0px 1px 3px 1px rgba(0, 0, 0, 0.15);\n",
              "      filter: drop-shadow(0px 1px 2px rgba(0, 0, 0, 0.3));\n",
              "      fill: #FFFFFF;\n",
              "    }\n",
              "  </style>\n",
              "\n",
              "      <script>\n",
              "        const buttonEl =\n",
              "          document.querySelector('#df-6b0180ee-0a27-44d0-9b30-e9b74255f4c2 button.colab-df-convert');\n",
              "        buttonEl.style.display =\n",
              "          google.colab.kernel.accessAllowed ? 'block' : 'none';\n",
              "\n",
              "        async function convertToInteractive(key) {\n",
              "          const element = document.querySelector('#df-6b0180ee-0a27-44d0-9b30-e9b74255f4c2');\n",
              "          const dataTable =\n",
              "            await google.colab.kernel.invokeFunction('convertToInteractive',\n",
              "                                                     [key], {});\n",
              "          if (!dataTable) return;\n",
              "\n",
              "          const docLinkHtml = 'Like what you see? Visit the ' +\n",
              "            '<a target=\"_blank\" href=https://colab.research.google.com/notebooks/data_table.ipynb>data table notebook</a>'\n",
              "            + ' to learn more about interactive tables.';\n",
              "          element.innerHTML = '';\n",
              "          dataTable['output_type'] = 'display_data';\n",
              "          await google.colab.output.renderOutput(dataTable, element);\n",
              "          const docLink = document.createElement('div');\n",
              "          docLink.innerHTML = docLinkHtml;\n",
              "          element.appendChild(docLink);\n",
              "        }\n",
              "      </script>\n",
              "    </div>\n",
              "  </div>\n",
              "  "
            ]
          },
          "metadata": {},
          "execution_count": 71
        }
      ]
    },
    {
      "cell_type": "markdown",
      "source": [
        "#Feature Extraction\n"
      ],
      "metadata": {
        "id": "jphNFRsDjOqi"
      }
    },
    {
      "cell_type": "markdown",
      "source": [
        "## Node based features\n",
        "- Channel name similarity\n",
        "- Same uploader\n",
        "- Age difference\n",
        "- Same category\n",
        "- Length difference\n",
        "- Difference in views\n",
        "- Difference in rate\n",
        "- Difference in nb of ratings\n",
        "- Difference in nb of comments"
      ],
      "metadata": {
        "id": "lnJ3-YZijq0-"
      }
    },
    {
      "cell_type": "code",
      "source": [
        "#let's see if there are video uploaded by the same person\n",
        "node_info.groupby(\"uploader\").count().age.unique() # --> Yes, there are some uploader for which we have multiple videos"
      ],
      "metadata": {
        "colab": {
          "base_uri": "https://localhost:8080/"
        },
        "id": "AkfKP_3rjTcR",
        "outputId": "a10a8ce6-2ff0-4681-8820-fd36cda7cab3"
      },
      "execution_count": null,
      "outputs": [
        {
          "output_type": "execute_result",
          "data": {
            "text/plain": [
              "array([  1,   3,   2,   4,   8,   5,  13,   6,   7,  10,  11,  20,  18,\n",
              "        34,  14,  30,  16,   9,  12,  19,  21,  17,  15,  23,  72,  24,\n",
              "        47,  25,  22,  28,  45,  61,  46,  67,  26,  39,  71, 109,  32,\n",
              "        33,  60,  27,  40,  29,  37,  38,  42,  65,  57,  74,  56,  31,\n",
              "        53,  81,  79,  59,  41,  50,  55, 191,  44,  35,  77,  98,  36,\n",
              "        43,  51])"
            ]
          },
          "metadata": {},
          "execution_count": 78
        }
      ]
    },
    {
      "cell_type": "code",
      "source": [
        "def node_features(edges):\n",
        "  "
      ],
      "metadata": {
        "id": "smhzHuA3knVx"
      },
      "execution_count": null,
      "outputs": []
    }
  ]
}