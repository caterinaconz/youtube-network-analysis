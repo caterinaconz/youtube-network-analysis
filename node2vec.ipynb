{
 "cells": [
  {
   "cell_type": "code",
   "execution_count": 20,
   "id": "78fb52f7",
   "metadata": {},
   "outputs": [],
   "source": [
    "#all imports\n",
    "import pandas as pd\n",
    "import numpy as np\n",
    "from matplotlib import pyplot as plt\n",
    "import networkx as nx\n",
    "import pandas as pd\n",
    "from tqdm import tqdm\n",
    "import math"
   ]
  },
  {
   "cell_type": "code",
   "execution_count": 21,
   "id": "965fabd8",
   "metadata": {},
   "outputs": [],
   "source": [
    "nodes = pd.read_csv(\"youtube_raw.csv\").drop(\"id.1\",axis = 1)\n",
    "\n",
    "#eliminate recommendations\n",
    "nodes = nodes.iloc[:,0:9]"
   ]
  },
  {
   "cell_type": "code",
   "execution_count": 22,
   "id": "7882e3d2",
   "metadata": {},
   "outputs": [],
   "source": [
    "#transform every column in list\n",
    "for i in nodes.columns:\n",
    "    globals()[i]=nodes[i].values.tolist()\n",
    "    "
   ]
  },
  {
   "cell_type": "code",
   "execution_count": 23,
   "id": "eefb37fb",
   "metadata": {},
   "outputs": [
    {
     "data": {
      "text/plain": [
       "Index(['id', 'uploader', 'age', 'category', 'length', 'views', 'rate',\n",
       "       'ratings', 'comments'],\n",
       "      dtype='object')"
      ]
     },
     "execution_count": 23,
     "metadata": {},
     "output_type": "execute_result"
    }
   ],
   "source": [
    "#print all variables that are now available as lists\n",
    "nodes.columns"
   ]
  },
  {
   "cell_type": "code",
   "execution_count": 24,
   "id": "aa2e1638",
   "metadata": {},
   "outputs": [],
   "source": [
    "#read train set and train graph\n",
    "train_edges = pd.read_csv(\"train_set.csv\", index_col =0).values.tolist()\n",
    "G_train = nx.read_edgelist(\"train.edgelist\", delimiter=',')\n",
    "\n",
    "#read test set and test graph\n",
    "test_edges = pd.read_csv(\"test_set.csv\", index_col =0).values.tolist()\n",
    "G_test = nx.read_edgelist(\"test.edgelist\", delimiter=',')"
   ]
  },
  {
   "cell_type": "code",
   "execution_count": 18,
   "id": "63578e46",
   "metadata": {},
   "outputs": [
    {
     "name": "stdout",
     "output_type": "stream",
     "text": [
      "Collecting node2vec\n",
      "  Downloading node2vec-0.4.4-py3-none-any.whl (6.8 kB)\n",
      "Requirement already satisfied: tqdm<5.0.0,>=4.55.1 in c:\\users\\sarah\\anaconda3\\lib\\site-packages (from node2vec) (4.59.0)\n",
      "Collecting gensim<5.0.0,>=4.1.2\n",
      "  Downloading gensim-4.1.2-cp38-cp38-win_amd64.whl (24.0 MB)\n",
      "Requirement already satisfied: networkx<3.0,>=2.5 in c:\\users\\sarah\\anaconda3\\lib\\site-packages (from node2vec) (2.5)\n",
      "Requirement already satisfied: numpy<2.0.0,>=1.19.5 in c:\\users\\sarah\\anaconda3\\lib\\site-packages (from node2vec) (1.20.1)\n",
      "Collecting joblib<2.0.0,>=1.1.0\n",
      "  Using cached joblib-1.1.0-py2.py3-none-any.whl (306 kB)\n",
      "Collecting smart-open>=1.8.1\n",
      "  Downloading smart_open-5.2.1-py3-none-any.whl (58 kB)\n",
      "Requirement already satisfied: scipy>=0.18.1 in c:\\users\\sarah\\anaconda3\\lib\\site-packages (from gensim<5.0.0,>=4.1.2->node2vec) (1.6.2)\n",
      "Requirement already satisfied: Cython==0.29.23 in c:\\users\\sarah\\anaconda3\\lib\\site-packages (from gensim<5.0.0,>=4.1.2->node2vec) (0.29.23)\n",
      "Requirement already satisfied: decorator>=4.3.0 in c:\\users\\sarah\\anaconda3\\lib\\site-packages (from networkx<3.0,>=2.5->node2vec) (5.0.6)\n",
      "Installing collected packages: smart-open, joblib, gensim, node2vec\n",
      "  Attempting uninstall: joblib\n",
      "    Found existing installation: joblib 1.0.1\n",
      "    Uninstalling joblib-1.0.1:\n",
      "      Successfully uninstalled joblib-1.0.1\n",
      "Successfully installed gensim-4.1.2 joblib-1.1.0 node2vec-0.4.4 smart-open-5.2.1\n"
     ]
    }
   ],
   "source": [
    "!pip install node2vec"
   ]
  },
  {
   "cell_type": "code",
   "execution_count": null,
   "id": "4d46de27",
   "metadata": {},
   "outputs": [
    {
     "data": {
      "application/vnd.jupyter.widget-view+json": {
       "model_id": "c185e42a1f3248829e00d5aca1183668",
       "version_major": 2,
       "version_minor": 0
      },
      "text/plain": [
       "Computing transition probabilities:   0%|          | 0/154677 [00:00<?, ?it/s]"
      ]
     },
     "metadata": {},
     "output_type": "display_data"
    }
   ],
   "source": [
    "from node2vec import Node2Vec\n",
    "# Precompute probabilities and generate walks\n",
    "node2vec = Node2Vec(G_train, dimensions=64, walk_length=10, num_walks=20, workers=4)\n",
    "# Embed nodes\n",
    "model = node2vec.fit(window=10, min_count=1, batch_words=4)"
   ]
  },
  {
   "cell_type": "code",
   "execution_count": null,
   "id": "051fdf9e",
   "metadata": {},
   "outputs": [],
   "source": [
    "t10cu_emb = { n: list(map(float,model.wv.get_vector(n))) for n in G_train.nodes()}"
   ]
  },
  {
   "cell_type": "code",
   "execution_count": 10,
   "id": "45c7e3d7",
   "metadata": {},
   "outputs": [
    {
     "data": {
      "text/plain": [
       "[0.6851642727851868,\n",
       " -1.1165839433670044,\n",
       " -0.45379969477653503,\n",
       " -0.004886134527623653,\n",
       " 0.03574543073773384,\n",
       " -0.5158502459526062,\n",
       " 0.2497645616531372,\n",
       " -0.7186118364334106,\n",
       " -0.9843817353248596,\n",
       " 0.15378302335739136,\n",
       " 1.2988859415054321,\n",
       " -0.08178991079330444,\n",
       " -0.024460218846797943,\n",
       " -0.47229963541030884,\n",
       " -0.11182890087366104,\n",
       " 0.21071544289588928,\n",
       " 0.04947487637400627,\n",
       " 0.6645092368125916,\n",
       " 0.14232604205608368,\n",
       " 0.06691809743642807,\n",
       " -0.23847316205501556,\n",
       " 0.03428015857934952,\n",
       " -0.43026605248451233,\n",
       " -0.5684924125671387,\n",
       " -0.22894608974456787,\n",
       " -0.5256617069244385,\n",
       " -0.33328118920326233,\n",
       " -0.05468614399433136,\n",
       " -0.889137864112854,\n",
       " 0.01730462536215782,\n",
       " 0.09561730176210403,\n",
       " 0.1865576058626175,\n",
       " -0.43307599425315857,\n",
       " 0.0023650259245187044,\n",
       " -0.21049264073371887,\n",
       " -0.004525403026491404,\n",
       " 0.14676356315612793,\n",
       " -0.9984727501869202,\n",
       " -0.4060112535953522,\n",
       " -0.010012958198785782,\n",
       " 0.6407720446586609,\n",
       " 0.1595916450023651,\n",
       " 0.1647300273180008,\n",
       " -0.790908694267273,\n",
       " 0.14037375152111053,\n",
       " -1.0305652618408203,\n",
       " -0.09748604148626328,\n",
       " -0.04917213320732117,\n",
       " 0.1470150649547577,\n",
       " 0.5952399373054504,\n",
       " -0.08865176141262054,\n",
       " -0.07032870501279831,\n",
       " 1.2059111595153809,\n",
       " 0.19471986591815948,\n",
       " -0.6884497404098511,\n",
       " -0.08709375560283661,\n",
       " -0.6045473217964172,\n",
       " 0.28124678134918213,\n",
       " -0.20159752666950226,\n",
       " 1.346566915512085,\n",
       " 0.17967325448989868,\n",
       " 0.14520810544490814,\n",
       " -0.6247476935386658,\n",
       " 1.0555070638656616]"
      ]
     },
     "execution_count": 10,
     "metadata": {},
     "output_type": "execute_result"
    }
   ],
   "source": [
    "# # WUvCeCflehk\n",
    "# t10cu_emb.get('WUvCeCflehk')"
   ]
  },
  {
   "cell_type": "code",
   "execution_count": 11,
   "id": "41e74998",
   "metadata": {},
   "outputs": [
    {
     "data": {
      "text/plain": [
       "[0.9730386734008789,\n",
       " -1.207642912864685,\n",
       " -0.4464534521102905,\n",
       " -0.04092391952872276,\n",
       " 0.19762003421783447,\n",
       " -0.4454960525035858,\n",
       " 0.4121575355529785,\n",
       " -0.8269778490066528,\n",
       " -1.2874515056610107,\n",
       " -0.005511773284524679,\n",
       " 1.513331651687622,\n",
       " -0.24635641276836395,\n",
       " -0.11321515589952469,\n",
       " -0.7641708850860596,\n",
       " -0.07965905219316483,\n",
       " 0.15205566585063934,\n",
       " -0.0010589392622932792,\n",
       " 0.5870465636253357,\n",
       " 0.1347959339618683,\n",
       " 0.13706085085868835,\n",
       " -0.4283437430858612,\n",
       " -0.0281562190502882,\n",
       " -0.40848591923713684,\n",
       " -0.5820826292037964,\n",
       " -0.30136609077453613,\n",
       " -0.7581773400306702,\n",
       " -0.41187137365341187,\n",
       " -0.10303853452205658,\n",
       " -1.001473307609558,\n",
       " 0.08912406861782074,\n",
       " 0.22901929914951324,\n",
       " 0.13475264608860016,\n",
       " -0.4309629201889038,\n",
       " 0.065004363656044,\n",
       " -0.07712556421756744,\n",
       " -0.1449437290430069,\n",
       " 0.1585787683725357,\n",
       " -1.2553962469100952,\n",
       " -0.38721200823783875,\n",
       " 0.009767760522663593,\n",
       " 0.7659207582473755,\n",
       " 0.05086977407336235,\n",
       " 0.22026868164539337,\n",
       " -0.9354638457298279,\n",
       " 0.26120132207870483,\n",
       " -1.172235131263733,\n",
       " -0.032878220081329346,\n",
       " 0.013314072042703629,\n",
       " 0.3210008144378662,\n",
       " 0.5856539011001587,\n",
       " -0.1470947414636612,\n",
       " -0.16472406685352325,\n",
       " 1.3957065343856812,\n",
       " 0.20424295961856842,\n",
       " -0.8351388573646545,\n",
       " -0.1406460553407669,\n",
       " -0.7451924085617065,\n",
       " 0.21053576469421387,\n",
       " -0.16242562234401703,\n",
       " 1.4610404968261719,\n",
       " 0.09452441334724426,\n",
       " 0.07583514600992203,\n",
       " -0.7218390107154846,\n",
       " 1.1900913715362549]"
      ]
     },
     "execution_count": 11,
     "metadata": {},
     "output_type": "execute_result"
    }
   ],
   "source": [
    "t10cu_emb.get('xuOtyEjQ-v4')"
   ]
  },
  {
   "cell_type": "code",
   "execution_count": 12,
   "id": "4a0d8ddf",
   "metadata": {},
   "outputs": [],
   "source": [
    "from sklearn.metrics.pairwise import cosine_similarity\n",
    "def get_cosine_similarity(feature_vec_1, feature_vec_2): \n",
    "    feature_vec_1= np.array(feature_vec_1)\n",
    "    feature_vec_2= np.array(feature_vec_2)\n",
    "    return cosine_similarity((np.reshape(feature_vec_1 ,(1, -1))), np.reshape(feature_vec_2 ,(1, -1)))[0][0]"
   ]
  },
  {
   "cell_type": "code",
   "execution_count": 13,
   "id": "be3fef12",
   "metadata": {},
   "outputs": [],
   "source": [
    "def similarity_features(d, source, target):\n",
    "    feature_vec_1= d.get(source)\n",
    "#     print(feature_vec_1)\n",
    "    feature_vec_2= d.get(target)\n",
    "#     print(\"2\")\n",
    "#     print(feature_vec_2)\n",
    "    sim= get_cosine_similarity(feature_vec_1, feature_vec_2)\n",
    "    return sim"
   ]
  },
  {
   "cell_type": "code",
   "execution_count": 14,
   "id": "d3892a36",
   "metadata": {},
   "outputs": [
    {
     "name": "stderr",
     "output_type": "stream",
     "text": [
      "100%|████████████████████████████████████████████████████████████████████████| 307274/307274 [00:49<00:00, 6240.02it/s]\n"
     ]
    }
   ],
   "source": [
    "# for i in tqdm(train_edges):\n",
    "#     similarity_features(t10cu_emb, i[0],i[1])\n",
    "\n",
    "x_train = []\n",
    "y_train = []\n",
    "for i in tqdm(train_edges):\n",
    "    x_train.append(similarity_features(t10cu_emb, i[0],i[1]))\n",
    "    y_train.append(int(i[2]))"
   ]
  },
  {
   "cell_type": "code",
   "execution_count": null,
   "id": "8dd1cd98",
   "metadata": {},
   "outputs": [],
   "source": [
    "#train_Edges: ['xuOtyEjQ-v4', 'WUvCeCflehk', 1]\n",
    "#for i in train edges, we need to compute similarity between the feature vectors of i[0] and i[1]\n",
    "#then store these similarities in a list and append it to the features. "
   ]
  },
  {
   "cell_type": "code",
   "execution_count": 8,
   "id": "6e524ec3",
   "metadata": {},
   "outputs": [],
   "source": [
    "# def katz_centrality(G):\n",
    "#     phi = (1 + math.sqrt(5)) / 2.0  # largest eigenvalue of adj matrix\n",
    "#     centrality = nx.katz_centrality(G_train, 1 / phi - 0.01)\n",
    "#     for n, c in sorted(centrality.items()):\n",
    "#         print(f\"{n} {c:.2f}\")\n",
    "#     return centrality"
   ]
  },
  {
   "cell_type": "code",
   "execution_count": 15,
   "id": "410f6f00",
   "metadata": {},
   "outputs": [],
   "source": [
    "x_train = pd.DataFrame(x_train, columns = ['similarities'])\n",
    "            \n",
    "x_train['y'] = y_train"
   ]
  },
  {
   "cell_type": "code",
   "execution_count": 16,
   "id": "71669b7e",
   "metadata": {},
   "outputs": [],
   "source": [
    "# x_train.to_csv('similarities_train.csv', index=False)"
   ]
  },
  {
   "cell_type": "code",
   "execution_count": 17,
   "id": "472c53a8",
   "metadata": {},
   "outputs": [
    {
     "name": "stderr",
     "output_type": "stream",
     "text": [
      "100%|████████████████████████████████████████████████████████████████████████| 170706/170706 [00:29<00:00, 5790.84it/s]\n"
     ]
    }
   ],
   "source": [
    "#compute features for training set\n",
    "x_test = []\n",
    "y_test = []\n",
    "for i in tqdm(test_edges):\n",
    "    x_test.append(similarity_features(t10cu_emb, i[0],i[1]))\n",
    "    y_test.append(int(i[2]))"
   ]
  },
  {
   "cell_type": "code",
   "execution_count": 18,
   "id": "129ae3e5",
   "metadata": {},
   "outputs": [],
   "source": [
    "x_test = pd.DataFrame(x_test, columns = ['similarities'])\n",
    "            \n",
    "x_test['y'] = y_test"
   ]
  },
  {
   "cell_type": "code",
   "execution_count": 19,
   "id": "f81d90fa",
   "metadata": {},
   "outputs": [],
   "source": [
    "x_test.to_csv('similarities_test.csv', index=False)"
   ]
  }
 ],
 "metadata": {
  "kernelspec": {
   "display_name": "Python 3",
   "language": "python",
   "name": "python3"
  },
  "language_info": {
   "codemirror_mode": {
    "name": "ipython",
    "version": 3
   },
   "file_extension": ".py",
   "mimetype": "text/x-python",
   "name": "python",
   "nbconvert_exporter": "python",
   "pygments_lexer": "ipython3",
   "version": "3.8.8"
  }
 },
 "nbformat": 4,
 "nbformat_minor": 5
}
