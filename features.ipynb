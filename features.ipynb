{
 "cells": [
  {
   "cell_type": "code",
   "execution_count": 30,
   "metadata": {},
   "outputs": [],
   "source": [
    "#all imports\n",
    "import pandas as pd\n",
    "import numpy as np\n",
    "from matplotlib import pyplot as plt\n",
    "import networkx as nx\n",
    "import pandas as pd\n",
    "from tqdm import tqdm"
   ]
  },
  {
   "cell_type": "code",
   "execution_count": 14,
   "metadata": {},
   "outputs": [],
   "source": [
    "nodes = pd.read_csv(\"youtube_raw.csv\").drop(\"id.1\",axis = 1)\n",
    "\n",
    "#eliminate recommendations\n",
    "nodes = nodes.iloc[:,0:9]"
   ]
  },
  {
   "cell_type": "code",
   "execution_count": 15,
   "metadata": {},
   "outputs": [
    {
     "data": {
      "text/html": [
       "<div>\n",
       "<style scoped>\n",
       "    .dataframe tbody tr th:only-of-type {\n",
       "        vertical-align: middle;\n",
       "    }\n",
       "\n",
       "    .dataframe tbody tr th {\n",
       "        vertical-align: top;\n",
       "    }\n",
       "\n",
       "    .dataframe thead th {\n",
       "        text-align: right;\n",
       "    }\n",
       "</style>\n",
       "<table border=\"1\" class=\"dataframe\">\n",
       "  <thead>\n",
       "    <tr style=\"text-align: right;\">\n",
       "      <th></th>\n",
       "      <th>id</th>\n",
       "      <th>uploader</th>\n",
       "      <th>age</th>\n",
       "      <th>category</th>\n",
       "      <th>length</th>\n",
       "      <th>views</th>\n",
       "      <th>rate</th>\n",
       "      <th>ratings</th>\n",
       "      <th>comments</th>\n",
       "    </tr>\n",
       "  </thead>\n",
       "  <tbody>\n",
       "    <tr>\n",
       "      <th>0</th>\n",
       "      <td>2rwktobtv9s</td>\n",
       "      <td>EA</td>\n",
       "      <td>742.0</td>\n",
       "      <td>Gadgets &amp; Games</td>\n",
       "      <td>83.0</td>\n",
       "      <td>389536.0</td>\n",
       "      <td>2.65</td>\n",
       "      <td>2294.0</td>\n",
       "      <td>268.0</td>\n",
       "    </tr>\n",
       "    <tr>\n",
       "      <th>1</th>\n",
       "      <td>h6Ghupxbj9g</td>\n",
       "      <td>KB42PAH</td>\n",
       "      <td>742.0</td>\n",
       "      <td>Sports</td>\n",
       "      <td>28.0</td>\n",
       "      <td>276207.0</td>\n",
       "      <td>4.57</td>\n",
       "      <td>297.0</td>\n",
       "      <td>424.0</td>\n",
       "    </tr>\n",
       "    <tr>\n",
       "      <th>2</th>\n",
       "      <td>mfeZibn3vmU</td>\n",
       "      <td>Gromek66</td>\n",
       "      <td>742.0</td>\n",
       "      <td>Comedy</td>\n",
       "      <td>278.0</td>\n",
       "      <td>151693.0</td>\n",
       "      <td>4.68</td>\n",
       "      <td>228.0</td>\n",
       "      <td>96.0</td>\n",
       "    </tr>\n",
       "  </tbody>\n",
       "</table>\n",
       "</div>"
      ],
      "text/plain": [
       "            id  uploader    age         category  length     views  rate  \\\n",
       "0  2rwktobtv9s        EA  742.0  Gadgets & Games    83.0  389536.0  2.65   \n",
       "1  h6Ghupxbj9g   KB42PAH  742.0           Sports    28.0  276207.0  4.57   \n",
       "2  mfeZibn3vmU  Gromek66  742.0           Comedy   278.0  151693.0  4.68   \n",
       "\n",
       "   ratings  comments  \n",
       "0   2294.0     268.0  \n",
       "1    297.0     424.0  \n",
       "2    228.0      96.0  "
      ]
     },
     "execution_count": 15,
     "metadata": {},
     "output_type": "execute_result"
    }
   ],
   "source": [
    "nodes.head(3)"
   ]
  },
  {
   "cell_type": "code",
   "execution_count": 17,
   "metadata": {},
   "outputs": [],
   "source": [
    "#transform every column in list\n",
    "for i in nodes.columns:\n",
    "    globals()[i]=nodes[i].values.tolist()\n",
    "    "
   ]
  },
  {
   "cell_type": "code",
   "execution_count": 18,
   "metadata": {},
   "outputs": [
    {
     "data": {
      "text/plain": [
       "Index(['id', 'uploader', 'age', 'category', 'length', 'views', 'rate',\n",
       "       'ratings', 'comments'],\n",
       "      dtype='object')"
      ]
     },
     "execution_count": 18,
     "metadata": {},
     "output_type": "execute_result"
    }
   ],
   "source": [
    "#print all variables that are now available as lists\n",
    "nodes.columns"
   ]
  },
  {
   "cell_type": "markdown",
   "metadata": {},
   "source": [
    "# Define Features"
   ]
  },
  {
   "cell_type": "code",
   "execution_count": 32,
   "metadata": {},
   "outputs": [],
   "source": [
    "def node_features(source, target):\n",
    "    source_idx, target_idx = id.index(source), id.index(target)\n",
    "    same_channel = 1 if uploader[source_idx]==uploader[target_idx] else 0\n",
    "    age_diff = age[source_idx]-age[target_idx]\n",
    "    same_category = 1 if category[source_idx]==category[target_idx] else 0\n",
    "    length_diff = length[source_idx]-length[target_idx]\n",
    "    views_diff = views[source_idx]-views[target_idx]\n",
    "    rate_diff = rate[source_idx]-rate[target_idx]\n",
    "    nb_rate_diff = ratings[source_idx]-ratings[target_idx]\n",
    "    comments_diff = comments[source_idx]-comments[target_idx]\n",
    "\n",
    "    return [same_channel,\n",
    "            age_diff,\n",
    "            same_category,\n",
    "            length_diff,\n",
    "            views_diff,\n",
    "            rate_diff,\n",
    "            nb_rate_diff,\n",
    "            comments_diff]"
   ]
  },
  {
   "cell_type": "markdown",
   "metadata": {},
   "source": [
    "# Compute Features"
   ]
  },
  {
   "cell_type": "code",
   "execution_count": 29,
   "metadata": {},
   "outputs": [],
   "source": [
    "#create a function that put together all features\n",
    "def compute_features(source,target):\n",
    "    result = []\n",
    "    result.extend(node_features(source, target))\n",
    "    return result"
   ]
  },
  {
   "cell_type": "code",
   "execution_count": 28,
   "metadata": {},
   "outputs": [],
   "source": [
    "#read train set and train graph\n",
    "train_edges = pd.read_csv(\"train_set.csv\", index_col =0).values.tolist()\n",
    "G_train = nx.read_edgelist(\"train.edgelist\")\n",
    "\n",
    "#read test set and test graph\n",
    "test_edges = pd.read_csv(\"test_set.csv\", index_col =0).values.tolist()\n",
    "G_test = nx.read_edgelist(\"test.edgelist\")"
   ]
  },
  {
   "cell_type": "code",
   "execution_count": null,
   "metadata": {},
   "outputs": [],
   "source": [
    "#compute features for training set\n",
    "x_train = []\n",
    "y_train = []\n",
    "for i in tqdm(train_edges):\n",
    "    x_train.append(compute_features(int(i[0]), int(i[1])))\n",
    "    y_train.append(int(i[2]))"
   ]
  },
  {
   "cell_type": "code",
   "execution_count": null,
   "metadata": {},
   "outputs": [],
   "source": [
    "#compute feautures for test set\n",
    "x_test = []\n",
    "for i in tqdm(test_edges):\n",
    "    x_test.append(compute_features(int(i[0]), int(i[1])))\n",
    "\n",
    "x_matrix_test = np.array(x_test)\n",
    "np.save(\"x_test.npy\", x_matrix_test)"
   ]
  }
 ],
 "metadata": {
  "interpreter": {
   "hash": "48ad31de0ee9b42ad5890166a6de5a08c4720a9a085550733e594727fa93335f"
  },
  "kernelspec": {
   "display_name": "Python 3.8.8 ('base')",
   "language": "python",
   "name": "python3"
  },
  "language_info": {
   "codemirror_mode": {
    "name": "ipython",
    "version": 3
   },
   "file_extension": ".py",
   "mimetype": "text/x-python",
   "name": "python",
   "nbconvert_exporter": "python",
   "pygments_lexer": "ipython3",
   "version": "3.8.8"
  },
  "orig_nbformat": 4
 },
 "nbformat": 4,
 "nbformat_minor": 2
}
