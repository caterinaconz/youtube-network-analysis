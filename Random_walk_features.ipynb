{
 "cells": [
  {
   "cell_type": "code",
   "execution_count": 59,
   "id": "96278307",
   "metadata": {},
   "outputs": [],
   "source": [
    "#all imports\n",
    "import pandas as pd\n",
    "import numpy as np\n",
    "from matplotlib import pyplot as plt\n",
    "import networkx as nx\n",
    "import pandas as pd\n",
    "from tqdm import tqdm"
   ]
  },
  {
   "cell_type": "code",
   "execution_count": 60,
   "id": "27425818",
   "metadata": {},
   "outputs": [],
   "source": [
    "nodes = pd.read_csv(\"youtube_raw.csv\").drop(\"id.1\",axis = 1)\n",
    "\n",
    "#eliminate recommendations\n",
    "nodes = nodes.iloc[:,0:9]"
   ]
  },
  {
   "cell_type": "code",
   "execution_count": 61,
   "id": "2fa1c95d",
   "metadata": {},
   "outputs": [],
   "source": [
    "#transform every column in list\n",
    "for i in nodes.columns:\n",
    "    globals()[i]=nodes[i].values.tolist()\n",
    "    "
   ]
  },
  {
   "cell_type": "code",
   "execution_count": 62,
   "id": "e3a946d5",
   "metadata": {},
   "outputs": [
    {
     "data": {
      "text/plain": [
       "Index(['id', 'uploader', 'age', 'category', 'length', 'views', 'rate',\n",
       "       'ratings', 'comments'],\n",
       "      dtype='object')"
      ]
     },
     "execution_count": 62,
     "metadata": {},
     "output_type": "execute_result"
    }
   ],
   "source": [
    "#print all variables that are now available as lists\n",
    "nodes.columns"
   ]
  },
  {
   "cell_type": "markdown",
   "id": "76a9cf41",
   "metadata": {},
   "source": [
    "# Define and Compute features"
   ]
  },
  {
   "cell_type": "code",
   "execution_count": 63,
   "id": "0a73a9ed",
   "metadata": {},
   "outputs": [],
   "source": [
    "#read train set and train graph\n",
    "train_edges = pd.read_csv(\"train_set.csv\", index_col =0).values.tolist()\n",
    "G_train = nx.read_edgelist(\"train.edgelist\", delimiter=',')\n",
    "\n",
    "#read test set and test graph\n",
    "test_edges = pd.read_csv(\"test_set.csv\", index_col =0).values.tolist()\n",
    "G_test = nx.read_edgelist(\"test.edgelist\", delimiter=',')"
   ]
  },
  {
   "cell_type": "code",
   "execution_count": 64,
   "id": "680a0793",
   "metadata": {},
   "outputs": [],
   "source": [
    "page_rank_train = nx.pagerank(G_train)\n",
    "hubs_train, _ = nx.hits(G_train)\n",
    "\n",
    "page_rank_test = nx.pagerank(G_test)\n",
    "hubs_test, _ = nx.hits(G_test)"
   ]
  },
  {
   "cell_type": "code",
   "execution_count": 65,
   "id": "a646eb2c",
   "metadata": {},
   "outputs": [],
   "source": [
    "def Random_walk_features(source, target, train=True):\n",
    "    \n",
    "    if train:\n",
    "        #Page rank\n",
    "        page_rank = page_rank_train\n",
    "        #Hit\n",
    "        hubs = hubs_train\n",
    "    else:\n",
    "        #Page rank\n",
    "        page_rank = page_rank_test\n",
    "        #Hit\n",
    "        hubs = hubs_test\n",
    "        \n",
    "    diff_page_rank = page_rank[source] - page_rank[target]\n",
    "    diff_hubs = hubs[source] - hubs[target]\n",
    "\n",
    "    return [diff_page_rank,\n",
    "            diff_hubs]"
   ]
  },
  {
   "cell_type": "code",
   "execution_count": 66,
   "id": "908a1b1e",
   "metadata": {},
   "outputs": [
    {
     "name": "stderr",
     "output_type": "stream",
     "text": [
      "100%|███████████████████████████████| 307274/307274 [00:02<00:00, 149095.05it/s]\n"
     ]
    }
   ],
   "source": [
    "#compute features for training set\n",
    "x_train = []\n",
    "y_train = []\n",
    "for i in tqdm(train_edges):\n",
    "    x_train.append(Random_walk_features(i[0], i[1]))\n",
    "    y_train.append(int(i[2]))"
   ]
  },
  {
   "cell_type": "code",
   "execution_count": 67,
   "id": "e7c061ac",
   "metadata": {},
   "outputs": [],
   "source": [
    "x_train = pd.DataFrame(x_train, columns = [\n",
    "                                            'diff_page_rank',\n",
    "                                            'diff_hubs'\n",
    "                                            ])\n",
    "            \n",
    "x_train['y'] = y_train"
   ]
  },
  {
   "cell_type": "code",
   "execution_count": 68,
   "id": "c122caf1",
   "metadata": {},
   "outputs": [],
   "source": [
    "x_train.to_csv('Random_walk_feautures_train.csv', index=False)"
   ]
  },
  {
   "cell_type": "code",
   "execution_count": 69,
   "id": "f7c43bf4",
   "metadata": {},
   "outputs": [
    {
     "name": "stderr",
     "output_type": "stream",
     "text": [
      "100%|███████████████████████████████| 170706/170706 [00:00<00:00, 444439.18it/s]\n"
     ]
    }
   ],
   "source": [
    "#compute features for test set\n",
    "x_test = []\n",
    "y_test = []\n",
    "for i in tqdm(test_edges):\n",
    "    x_test.append(Random_walk_features(i[0], i[1], train=False))\n",
    "    y_test.append(int(i[2]))"
   ]
  },
  {
   "cell_type": "code",
   "execution_count": 70,
   "id": "ecdb54cd",
   "metadata": {},
   "outputs": [],
   "source": [
    "x_test = pd.DataFrame(x_test, columns = [\n",
    "                                            'diff_page_rank',\n",
    "                                            'diff_hubs'\n",
    "                                            ])\n",
    "            \n",
    "x_test['y'] = y_test"
   ]
  },
  {
   "cell_type": "code",
   "execution_count": 71,
   "id": "a1c3643f",
   "metadata": {},
   "outputs": [],
   "source": [
    "x_test.to_csv('Random_walk_feautures_test.csv', index=False)"
   ]
  },
  {
   "cell_type": "code",
   "execution_count": null,
   "id": "da27f500",
   "metadata": {},
   "outputs": [],
   "source": []
  }
 ],
 "metadata": {
  "kernelspec": {
   "display_name": "Python 3 (ipykernel)",
   "language": "python",
   "name": "python3"
  },
  "language_info": {
   "codemirror_mode": {
    "name": "ipython",
    "version": 3
   },
   "file_extension": ".py",
   "mimetype": "text/x-python",
   "name": "python",
   "nbconvert_exporter": "python",
   "pygments_lexer": "ipython3",
   "version": "3.8.10"
  }
 },
 "nbformat": 4,
 "nbformat_minor": 5
}
