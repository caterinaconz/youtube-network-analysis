{
 "cells": [
  {
   "cell_type": "code",
   "execution_count": 1,
   "id": "96278307",
   "metadata": {},
   "outputs": [],
   "source": [
    "#all imports\n",
    "import pandas as pd\n",
    "import numpy as np\n",
    "from matplotlib import pyplot as plt\n",
    "import networkx as nx\n",
    "import pandas as pd\n",
    "from tqdm import tqdm"
   ]
  },
  {
   "cell_type": "code",
   "execution_count": 2,
   "id": "27425818",
   "metadata": {},
   "outputs": [],
   "source": [
    "nodes = pd.read_csv(\"youtube_raw.csv\").drop(\"id.1\",axis = 1)\n",
    "\n",
    "#eliminate recommendations\n",
    "nodes = nodes.iloc[:,0:9]"
   ]
  },
  {
   "cell_type": "code",
   "execution_count": 3,
   "id": "2fa1c95d",
   "metadata": {},
   "outputs": [],
   "source": [
    "#transform every column in list\n",
    "for i in nodes.columns:\n",
    "    globals()[i]=nodes[i].values.tolist()\n",
    "    "
   ]
  },
  {
   "cell_type": "code",
   "execution_count": 4,
   "id": "e3a946d5",
   "metadata": {},
   "outputs": [
    {
     "data": {
      "text/plain": [
       "Index(['id', 'uploader', 'age', 'category', 'length', 'views', 'rate',\n",
       "       'ratings', 'comments'],\n",
       "      dtype='object')"
      ]
     },
     "execution_count": 4,
     "metadata": {},
     "output_type": "execute_result"
    }
   ],
   "source": [
    "#print all variables that are now available as lists\n",
    "nodes.columns"
   ]
  },
  {
   "cell_type": "markdown",
   "id": "f9ef2662",
   "metadata": {},
   "source": [
    "# Define features"
   ]
  },
  {
   "cell_type": "code",
   "execution_count": null,
   "id": "a646eb2c",
   "metadata": {},
   "outputs": [],
   "source": [
    "def Random_walk_features(G, source, target):\n",
    "    \n",
    "    #Random walk\n",
    "    radnom_walk = \n",
    "\n",
    "    return [radnom_walk,\n",
    "           ]"
   ]
  },
  {
   "cell_type": "markdown",
   "id": "76a9cf41",
   "metadata": {},
   "source": [
    "# Compute features"
   ]
  },
  {
   "cell_type": "code",
   "execution_count": null,
   "id": "0a73a9ed",
   "metadata": {},
   "outputs": [],
   "source": [
    "#read train set and train graph\n",
    "train_edges = pd.read_csv(\"train_set.csv\", index_col =0).values.tolist()\n",
    "G_train = nx.read_edgelist(\"train.edgelist\", delimiter=',')\n",
    "\n",
    "#read test set and test graph\n",
    "test_edges = pd.read_csv(\"test_set.csv\", index_col =0).values.tolist()\n",
    "G_test = nx.read_edgelist(\"test.edgelist\", delimiter=',')"
   ]
  }
 ],
 "metadata": {
  "kernelspec": {
   "display_name": "Python 3 (ipykernel)",
   "language": "python",
   "name": "python3"
  },
  "language_info": {
   "codemirror_mode": {
    "name": "ipython",
    "version": 3
   },
   "file_extension": ".py",
   "mimetype": "text/x-python",
   "name": "python",
   "nbconvert_exporter": "python",
   "pygments_lexer": "ipython3",
   "version": "3.8.10"
  }
 },
 "nbformat": 4,
 "nbformat_minor": 5
}
