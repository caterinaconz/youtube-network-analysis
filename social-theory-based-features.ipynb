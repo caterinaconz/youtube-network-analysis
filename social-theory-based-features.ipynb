{
  "cells": [
    {
      "cell_type": "code",
      "execution_count": 31,
      "metadata": {
        "id": "kCg8CxibJFtc"
      },
      "outputs": [],
      "source": [
        "import pandas as pd\n",
        "import numpy as np\n",
        "from matplotlib import pyplot as plt\n",
        "import networkx as nx\n",
        "import pandas as pd\n",
        "from tqdm import tqdm\n",
        "from collections import defaultdict\n",
        "from networkx.algorithms import community\n",
        "import networkx.algorithms.community as nxcom\n",
        "\n",
        "from community import community_louvain\n"
      ]
    },
    {
      "cell_type": "code",
      "execution_count": 17,
      "metadata": {
        "colab": {
          "base_uri": "https://localhost:8080/",
          "height": 206
        },
        "id": "yykrSOA_L1Jl",
        "outputId": "a90e4a7d-b586-464f-f817-02fb5c828518"
      },
      "outputs": [
        {
          "data": {
            "text/html": [
              "<div>\n",
              "<style scoped>\n",
              "    .dataframe tbody tr th:only-of-type {\n",
              "        vertical-align: middle;\n",
              "    }\n",
              "\n",
              "    .dataframe tbody tr th {\n",
              "        vertical-align: top;\n",
              "    }\n",
              "\n",
              "    .dataframe thead th {\n",
              "        text-align: right;\n",
              "    }\n",
              "</style>\n",
              "<table border=\"1\" class=\"dataframe\">\n",
              "  <thead>\n",
              "    <tr style=\"text-align: right;\">\n",
              "      <th></th>\n",
              "      <th>id</th>\n",
              "      <th>uploader</th>\n",
              "      <th>age</th>\n",
              "      <th>category</th>\n",
              "      <th>length</th>\n",
              "      <th>views</th>\n",
              "      <th>rate</th>\n",
              "      <th>ratings</th>\n",
              "      <th>comments</th>\n",
              "    </tr>\n",
              "  </thead>\n",
              "  <tbody>\n",
              "    <tr>\n",
              "      <th>0</th>\n",
              "      <td>2rwktobtv9s</td>\n",
              "      <td>EA</td>\n",
              "      <td>742.0</td>\n",
              "      <td>Gadgets &amp; Games</td>\n",
              "      <td>83.0</td>\n",
              "      <td>389536.0</td>\n",
              "      <td>2.65</td>\n",
              "      <td>2294.0</td>\n",
              "      <td>268.0</td>\n",
              "    </tr>\n",
              "    <tr>\n",
              "      <th>1</th>\n",
              "      <td>h6Ghupxbj9g</td>\n",
              "      <td>KB42PAH</td>\n",
              "      <td>742.0</td>\n",
              "      <td>Sports</td>\n",
              "      <td>28.0</td>\n",
              "      <td>276207.0</td>\n",
              "      <td>4.57</td>\n",
              "      <td>297.0</td>\n",
              "      <td>424.0</td>\n",
              "    </tr>\n",
              "    <tr>\n",
              "      <th>2</th>\n",
              "      <td>mfeZibn3vmU</td>\n",
              "      <td>Gromek66</td>\n",
              "      <td>742.0</td>\n",
              "      <td>Comedy</td>\n",
              "      <td>278.0</td>\n",
              "      <td>151693.0</td>\n",
              "      <td>4.68</td>\n",
              "      <td>228.0</td>\n",
              "      <td>96.0</td>\n",
              "    </tr>\n",
              "    <tr>\n",
              "      <th>3</th>\n",
              "      <td>86Fe6LICKKk</td>\n",
              "      <td>lonelygirl15</td>\n",
              "      <td>742.0</td>\n",
              "      <td>People &amp; Blogs</td>\n",
              "      <td>148.0</td>\n",
              "      <td>125061.0</td>\n",
              "      <td>2.77</td>\n",
              "      <td>1343.0</td>\n",
              "      <td>1419.0</td>\n",
              "    </tr>\n",
              "    <tr>\n",
              "      <th>4</th>\n",
              "      <td>XbRkmBcVWlc</td>\n",
              "      <td>Htiwan</td>\n",
              "      <td>742.0</td>\n",
              "      <td>Film &amp; Animation</td>\n",
              "      <td>79.0</td>\n",
              "      <td>108868.0</td>\n",
              "      <td>4.33</td>\n",
              "      <td>282.0</td>\n",
              "      <td>245.0</td>\n",
              "    </tr>\n",
              "  </tbody>\n",
              "</table>\n",
              "</div>"
            ],
            "text/plain": [
              "            id      uploader    age          category  length     views  rate  \\\n",
              "0  2rwktobtv9s            EA  742.0   Gadgets & Games    83.0  389536.0  2.65   \n",
              "1  h6Ghupxbj9g       KB42PAH  742.0            Sports    28.0  276207.0  4.57   \n",
              "2  mfeZibn3vmU      Gromek66  742.0            Comedy   278.0  151693.0  4.68   \n",
              "3  86Fe6LICKKk  lonelygirl15  742.0    People & Blogs   148.0  125061.0  2.77   \n",
              "4  XbRkmBcVWlc        Htiwan  742.0  Film & Animation    79.0  108868.0  4.33   \n",
              "\n",
              "   ratings  comments  \n",
              "0   2294.0     268.0  \n",
              "1    297.0     424.0  \n",
              "2    228.0      96.0  \n",
              "3   1343.0    1419.0  \n",
              "4    282.0     245.0  "
            ]
          },
          "execution_count": 17,
          "metadata": {},
          "output_type": "execute_result"
        }
      ],
      "source": [
        "nodes = pd.read_csv('youtube_raw.csv').drop('id.1', axis=1)\n",
        "nodes = nodes.iloc[:, 0:9]\n",
        "nodes.head()"
      ]
    },
    {
      "cell_type": "code",
      "execution_count": 18,
      "metadata": {
        "colab": {
          "base_uri": "https://localhost:8080/",
          "height": 206
        },
        "id": "PA8VrZSOVPrl",
        "outputId": "a4da4bdf-4b5f-4133-f7a1-b37157cf85db"
      },
      "outputs": [
        {
          "data": {
            "text/html": [
              "<div>\n",
              "<style scoped>\n",
              "    .dataframe tbody tr th:only-of-type {\n",
              "        vertical-align: middle;\n",
              "    }\n",
              "\n",
              "    .dataframe tbody tr th {\n",
              "        vertical-align: top;\n",
              "    }\n",
              "\n",
              "    .dataframe thead th {\n",
              "        text-align: right;\n",
              "    }\n",
              "</style>\n",
              "<table border=\"1\" class=\"dataframe\">\n",
              "  <thead>\n",
              "    <tr style=\"text-align: right;\">\n",
              "      <th></th>\n",
              "      <th>Source</th>\n",
              "      <th>Target</th>\n",
              "      <th>Edge</th>\n",
              "    </tr>\n",
              "  </thead>\n",
              "  <tbody>\n",
              "    <tr>\n",
              "      <th>0</th>\n",
              "      <td>xuOtyEjQ-v4</td>\n",
              "      <td>WUvCeCflehk</td>\n",
              "      <td>1</td>\n",
              "    </tr>\n",
              "    <tr>\n",
              "      <th>1</th>\n",
              "      <td>-V1Nw7kIY7o</td>\n",
              "      <td>WNsrs_cjZH8</td>\n",
              "      <td>1</td>\n",
              "    </tr>\n",
              "    <tr>\n",
              "      <th>2</th>\n",
              "      <td>zhdUqcvcdDY</td>\n",
              "      <td>3xdO4n-Vk4Y</td>\n",
              "      <td>1</td>\n",
              "    </tr>\n",
              "    <tr>\n",
              "      <th>3</th>\n",
              "      <td>RVbDwqSq4Ec</td>\n",
              "      <td>J7X2ieNiixE</td>\n",
              "      <td>1</td>\n",
              "    </tr>\n",
              "    <tr>\n",
              "      <th>4</th>\n",
              "      <td>aKWP6f_Wvoc</td>\n",
              "      <td>EQbLNEiM17M</td>\n",
              "      <td>1</td>\n",
              "    </tr>\n",
              "  </tbody>\n",
              "</table>\n",
              "</div>"
            ],
            "text/plain": [
              "        Source       Target  Edge\n",
              "0  xuOtyEjQ-v4  WUvCeCflehk     1\n",
              "1  -V1Nw7kIY7o  WNsrs_cjZH8     1\n",
              "2  zhdUqcvcdDY  3xdO4n-Vk4Y     1\n",
              "3  RVbDwqSq4Ec  J7X2ieNiixE     1\n",
              "4  aKWP6f_Wvoc  EQbLNEiM17M     1"
            ]
          },
          "execution_count": 18,
          "metadata": {},
          "output_type": "execute_result"
        }
      ],
      "source": [
        "train_set = pd.read_csv('train_set.csv', index_col =0)\n",
        "train_set.head()"
      ]
    },
    {
      "cell_type": "code",
      "execution_count": 19,
      "metadata": {},
      "outputs": [],
      "source": [
        "train_edges = train_set.values.tolist()"
      ]
    },
    {
      "cell_type": "code",
      "execution_count": 20,
      "metadata": {
        "colab": {
          "base_uri": "https://localhost:8080/",
          "height": 206
        },
        "id": "dzvTLke4kaGh",
        "outputId": "68b0e875-9d9f-4d3a-c73f-6ef8be6d34ad"
      },
      "outputs": [
        {
          "data": {
            "text/html": [
              "<div>\n",
              "<style scoped>\n",
              "    .dataframe tbody tr th:only-of-type {\n",
              "        vertical-align: middle;\n",
              "    }\n",
              "\n",
              "    .dataframe tbody tr th {\n",
              "        vertical-align: top;\n",
              "    }\n",
              "\n",
              "    .dataframe thead th {\n",
              "        text-align: right;\n",
              "    }\n",
              "</style>\n",
              "<table border=\"1\" class=\"dataframe\">\n",
              "  <thead>\n",
              "    <tr style=\"text-align: right;\">\n",
              "      <th></th>\n",
              "      <th>Source</th>\n",
              "      <th>Target</th>\n",
              "      <th>Edge</th>\n",
              "    </tr>\n",
              "  </thead>\n",
              "  <tbody>\n",
              "    <tr>\n",
              "      <th>0</th>\n",
              "      <td>rGBhluYrbzU</td>\n",
              "      <td>XZ8tdf1gyHI</td>\n",
              "      <td>1</td>\n",
              "    </tr>\n",
              "    <tr>\n",
              "      <th>1</th>\n",
              "      <td>ClQHYZqW_Ns</td>\n",
              "      <td>fvjGMoE7oSU</td>\n",
              "      <td>1</td>\n",
              "    </tr>\n",
              "    <tr>\n",
              "      <th>2</th>\n",
              "      <td>EfvQAu6NRrk</td>\n",
              "      <td>1Ex1ZcQJEv8</td>\n",
              "      <td>1</td>\n",
              "    </tr>\n",
              "    <tr>\n",
              "      <th>3</th>\n",
              "      <td>3jiTk_diJCw</td>\n",
              "      <td>PshwMfxvI-I</td>\n",
              "      <td>1</td>\n",
              "    </tr>\n",
              "    <tr>\n",
              "      <th>4</th>\n",
              "      <td>KTNXjOsXpUc</td>\n",
              "      <td>QsHbd8nPFbc</td>\n",
              "      <td>1</td>\n",
              "    </tr>\n",
              "  </tbody>\n",
              "</table>\n",
              "</div>"
            ],
            "text/plain": [
              "        Source       Target  Edge\n",
              "0  rGBhluYrbzU  XZ8tdf1gyHI     1\n",
              "1  ClQHYZqW_Ns  fvjGMoE7oSU     1\n",
              "2  EfvQAu6NRrk  1Ex1ZcQJEv8     1\n",
              "3  3jiTk_diJCw  PshwMfxvI-I     1\n",
              "4  KTNXjOsXpUc  QsHbd8nPFbc     1"
            ]
          },
          "execution_count": 20,
          "metadata": {},
          "output_type": "execute_result"
        }
      ],
      "source": [
        "test_set = pd.read_csv('test_set.csv', index_col =0)\n",
        "test_set.head()"
      ]
    },
    {
      "cell_type": "code",
      "execution_count": 21,
      "metadata": {},
      "outputs": [],
      "source": [
        "test_edges = test_set.values.tolist()"
      ]
    },
    {
      "cell_type": "code",
      "execution_count": 22,
      "metadata": {
        "id": "MpgI_ZvFkfCD"
      },
      "outputs": [],
      "source": [
        "G_train = nx.read_edgelist(\"train.edgelist\", delimiter=',')\n",
        "G_test = nx.read_edgelist(\"test.edgelist\", delimiter=',')"
      ]
    },
    {
      "cell_type": "code",
      "execution_count": 23,
      "metadata": {
        "id": "-8IIFHG4MrgJ"
      },
      "outputs": [],
      "source": [
        "# Turn cols into lists \n",
        "for i in nodes.columns:\n",
        "    globals()[i]=nodes[i].values.tolist()"
      ]
    },
    {
      "cell_type": "code",
      "execution_count": 24,
      "metadata": {
        "colab": {
          "base_uri": "https://localhost:8080/"
        },
        "id": "320YU2RpNBU5",
        "outputId": "114e7568-3715-4555-c29a-4a74ae8f7eba"
      },
      "outputs": [
        {
          "data": {
            "text/plain": [
              "Index(['id', 'uploader', 'age', 'category', 'length', 'views', 'rate',\n",
              "       'ratings', 'comments'],\n",
              "      dtype='object')"
            ]
          },
          "execution_count": 24,
          "metadata": {},
          "output_type": "execute_result"
        }
      ],
      "source": [
        "#print all variables that are now available as lists\n",
        "nodes.columns"
      ]
    },
    {
      "cell_type": "markdown",
      "metadata": {},
      "source": [
        "## Communities"
      ]
    },
    {
      "cell_type": "code",
      "execution_count": 27,
      "metadata": {},
      "outputs": [],
      "source": [
        "# centrality\n",
        "deg_centrality_train = nx.degree_centrality(G_train)\n",
        "deg_centrality_test = nx.degree_centrality(G_test)\n",
        "\n",
        "eigen_cent_train = nx.eigenvector_centrality(G_train)\n",
        "eigen_cent_test = nx.eigenvector_centrality(G_test)"
      ]
    },
    {
      "cell_type": "code",
      "execution_count": 32,
      "metadata": {},
      "outputs": [],
      "source": [
        "# first computing the best partition\n",
        "partition_train = community_louvain.best_partition(G_train)\n",
        "partition_test = community_louvain.best_partition(G_test)"
      ]
    },
    {
      "cell_type": "code",
      "execution_count": 33,
      "metadata": {
        "id": "qsaFWFd9JLdp"
      },
      "outputs": [],
      "source": [
        "def social_features(source, target, type = \"train\"):\n",
        "\n",
        "  if type == \"train\":\n",
        "    deg_centrality = deg_centrality_train\n",
        "    eigen_cent = eigen_cent_train\n",
        "    partition = partition_train\n",
        "    graph = G_train\n",
        "  else:\n",
        "    deg_centrality = deg_centrality_test\n",
        "    eigen_cent = eigen_cent_test\n",
        "    partition = partition_test\n",
        "    graph = G_test\n",
        "  ############### common neighbors ###############\n",
        "  neigbors = len(list(nx.common_neighbors(graph,source, target)))\n",
        "\n",
        "  ############### Same community ###############\n",
        "  same_partition = 1 if partition.get(source)== partition.get(target) else 0\n",
        "    \n",
        "  ############### Centrality ###############\n",
        "  diff_deg_cen = deg_centrality[source] - deg_centrality[target]\n",
        "  diff_eigen_cen = eigen_cent[source] - eigen_cent[target]\n",
        "     \n",
        "  return [neigbors,\n",
        "          same_partition,\n",
        "          diff_deg_cen,\n",
        "          diff_eigen_cen \n",
        "          ]"
      ]
    },
    {
      "cell_type": "code",
      "execution_count": 34,
      "metadata": {
        "id": "t3trYF5VXhbH"
      },
      "outputs": [
        {
          "name": "stderr",
          "output_type": "stream",
          "text": [
            "100%|██████████| 307274/307274 [00:13<00:00, 22051.15it/s]\n"
          ]
        }
      ],
      "source": [
        "#compute features for training set\n",
        "x_train = []\n",
        "y_train = []\n",
        "for i in tqdm(train_edges):\n",
        "    x_train.append(social_features(i[0], i[1],\"train\"))\n",
        "    y_train.append(int(i[2]))"
      ]
    },
    {
      "cell_type": "code",
      "execution_count": 35,
      "metadata": {},
      "outputs": [],
      "source": [
        "x_train = pd.DataFrame(x_train, columns = [\n",
        "    \"neigbors\",\n",
        "    \"same_partition\",\n",
        "    \"diff_deg_cen\",\n",
        "    \"diff_eigen_cen\" \n",
        "    ])\n",
        "            \n",
        "x_train[\"y\"] = y_train"
      ]
    },
    {
      "cell_type": "code",
      "execution_count": 36,
      "metadata": {},
      "outputs": [],
      "source": [
        "x_train.to_csv(\"social_theory_train.csv\", index=False)"
      ]
    },
    {
      "cell_type": "code",
      "execution_count": 37,
      "metadata": {},
      "outputs": [
        {
          "name": "stderr",
          "output_type": "stream",
          "text": [
            "100%|██████████| 170706/170706 [00:18<00:00, 9230.73it/s] \n"
          ]
        }
      ],
      "source": [
        "#compute feautures for test set\n",
        "x_test = []\n",
        "y_test = []\n",
        "for i in tqdm(test_edges):\n",
        "    x_test.append(social_features(i[0], i[1],\"test\"))\n",
        "    y_test.append(int(i[2]))"
      ]
    },
    {
      "cell_type": "code",
      "execution_count": 38,
      "metadata": {},
      "outputs": [],
      "source": [
        "x_test = pd.DataFrame(x_test, columns = [\n",
        "    \"neigbors\",\n",
        "    \"same_partition\",\n",
        "    \"diff_deg_cen\",\n",
        "    \"diff_eigen_cen\" \n",
        "    ])\n",
        "            \n",
        "x_test[\"y\"] = y_test"
      ]
    },
    {
      "cell_type": "code",
      "execution_count": 39,
      "metadata": {},
      "outputs": [],
      "source": [
        "x_test.to_csv(\"social_theory_test.csv\", index=False)"
      ]
    },
    {
      "cell_type": "code",
      "execution_count": 42,
      "metadata": {},
      "outputs": [
        {
          "data": {
            "text/html": [
              "<div>\n",
              "<style scoped>\n",
              "    .dataframe tbody tr th:only-of-type {\n",
              "        vertical-align: middle;\n",
              "    }\n",
              "\n",
              "    .dataframe tbody tr th {\n",
              "        vertical-align: top;\n",
              "    }\n",
              "\n",
              "    .dataframe thead th {\n",
              "        text-align: right;\n",
              "    }\n",
              "</style>\n",
              "<table border=\"1\" class=\"dataframe\">\n",
              "  <thead>\n",
              "    <tr style=\"text-align: right;\">\n",
              "      <th></th>\n",
              "      <th>neigbors</th>\n",
              "      <th>same_partition</th>\n",
              "      <th>diff_deg_cen</th>\n",
              "      <th>diff_eigen_cen</th>\n",
              "    </tr>\n",
              "    <tr>\n",
              "      <th>y</th>\n",
              "      <th></th>\n",
              "      <th></th>\n",
              "      <th></th>\n",
              "      <th></th>\n",
              "    </tr>\n",
              "  </thead>\n",
              "  <tbody>\n",
              "    <tr>\n",
              "      <th>0</th>\n",
              "      <td>0.000378</td>\n",
              "      <td>0.006873</td>\n",
              "      <td>1.220336e-08</td>\n",
              "      <td>-7.876984e-07</td>\n",
              "    </tr>\n",
              "    <tr>\n",
              "      <th>1</th>\n",
              "      <td>4.298385</td>\n",
              "      <td>0.923117</td>\n",
              "      <td>2.929163e-05</td>\n",
              "      <td>2.502677e-04</td>\n",
              "    </tr>\n",
              "  </tbody>\n",
              "</table>\n",
              "</div>"
            ],
            "text/plain": [
              "   neigbors  same_partition  diff_deg_cen  diff_eigen_cen\n",
              "y                                                        \n",
              "0  0.000378        0.006873  1.220336e-08   -7.876984e-07\n",
              "1  4.298385        0.923117  2.929163e-05    2.502677e-04"
            ]
          },
          "execution_count": 42,
          "metadata": {},
          "output_type": "execute_result"
        }
      ],
      "source": [
        "x_train.groupby(\"y\").mean()"
      ]
    },
    {
      "cell_type": "code",
      "execution_count": 43,
      "metadata": {},
      "outputs": [
        {
          "data": {
            "text/html": [
              "<div>\n",
              "<style scoped>\n",
              "    .dataframe tbody tr th:only-of-type {\n",
              "        vertical-align: middle;\n",
              "    }\n",
              "\n",
              "    .dataframe tbody tr th {\n",
              "        vertical-align: top;\n",
              "    }\n",
              "\n",
              "    .dataframe thead th {\n",
              "        text-align: right;\n",
              "    }\n",
              "</style>\n",
              "<table border=\"1\" class=\"dataframe\">\n",
              "  <thead>\n",
              "    <tr style=\"text-align: right;\">\n",
              "      <th></th>\n",
              "      <th>neigbors</th>\n",
              "      <th>same_partition</th>\n",
              "      <th>diff_deg_cen</th>\n",
              "      <th>diff_eigen_cen</th>\n",
              "      <th>y</th>\n",
              "    </tr>\n",
              "  </thead>\n",
              "  <tbody>\n",
              "    <tr>\n",
              "      <th>0</th>\n",
              "      <td>2</td>\n",
              "      <td>1</td>\n",
              "      <td>0.000097</td>\n",
              "      <td>6.199184e-09</td>\n",
              "      <td>1</td>\n",
              "    </tr>\n",
              "    <tr>\n",
              "      <th>1</th>\n",
              "      <td>3</td>\n",
              "      <td>1</td>\n",
              "      <td>0.000000</td>\n",
              "      <td>2.372001e-06</td>\n",
              "      <td>1</td>\n",
              "    </tr>\n",
              "    <tr>\n",
              "      <th>2</th>\n",
              "      <td>1</td>\n",
              "      <td>1</td>\n",
              "      <td>0.000737</td>\n",
              "      <td>9.013412e-05</td>\n",
              "      <td>1</td>\n",
              "    </tr>\n",
              "    <tr>\n",
              "      <th>3</th>\n",
              "      <td>11</td>\n",
              "      <td>1</td>\n",
              "      <td>-0.000013</td>\n",
              "      <td>-5.773385e-11</td>\n",
              "      <td>1</td>\n",
              "    </tr>\n",
              "    <tr>\n",
              "      <th>4</th>\n",
              "      <td>1</td>\n",
              "      <td>1</td>\n",
              "      <td>0.000071</td>\n",
              "      <td>5.126576e-09</td>\n",
              "      <td>1</td>\n",
              "    </tr>\n",
              "    <tr>\n",
              "      <th>...</th>\n",
              "      <td>...</td>\n",
              "      <td>...</td>\n",
              "      <td>...</td>\n",
              "      <td>...</td>\n",
              "      <td>...</td>\n",
              "    </tr>\n",
              "    <tr>\n",
              "      <th>307269</th>\n",
              "      <td>0</td>\n",
              "      <td>0</td>\n",
              "      <td>0.000026</td>\n",
              "      <td>-1.034136e-06</td>\n",
              "      <td>0</td>\n",
              "    </tr>\n",
              "    <tr>\n",
              "      <th>307270</th>\n",
              "      <td>0</td>\n",
              "      <td>0</td>\n",
              "      <td>-0.000019</td>\n",
              "      <td>6.091262e-08</td>\n",
              "      <td>0</td>\n",
              "    </tr>\n",
              "    <tr>\n",
              "      <th>307271</th>\n",
              "      <td>0</td>\n",
              "      <td>0</td>\n",
              "      <td>-0.000078</td>\n",
              "      <td>-1.618421e-07</td>\n",
              "      <td>0</td>\n",
              "    </tr>\n",
              "    <tr>\n",
              "      <th>307272</th>\n",
              "      <td>0</td>\n",
              "      <td>0</td>\n",
              "      <td>0.000006</td>\n",
              "      <td>-6.707615e-08</td>\n",
              "      <td>0</td>\n",
              "    </tr>\n",
              "    <tr>\n",
              "      <th>307273</th>\n",
              "      <td>0</td>\n",
              "      <td>0</td>\n",
              "      <td>0.000006</td>\n",
              "      <td>-2.686563e-08</td>\n",
              "      <td>0</td>\n",
              "    </tr>\n",
              "  </tbody>\n",
              "</table>\n",
              "<p>307274 rows × 5 columns</p>\n",
              "</div>"
            ],
            "text/plain": [
              "        neigbors  same_partition  diff_deg_cen  diff_eigen_cen  y\n",
              "0              2               1      0.000097    6.199184e-09  1\n",
              "1              3               1      0.000000    2.372001e-06  1\n",
              "2              1               1      0.000737    9.013412e-05  1\n",
              "3             11               1     -0.000013   -5.773385e-11  1\n",
              "4              1               1      0.000071    5.126576e-09  1\n",
              "...          ...             ...           ...             ... ..\n",
              "307269         0               0      0.000026   -1.034136e-06  0\n",
              "307270         0               0     -0.000019    6.091262e-08  0\n",
              "307271         0               0     -0.000078   -1.618421e-07  0\n",
              "307272         0               0      0.000006   -6.707615e-08  0\n",
              "307273         0               0      0.000006   -2.686563e-08  0\n",
              "\n",
              "[307274 rows x 5 columns]"
            ]
          },
          "execution_count": 43,
          "metadata": {},
          "output_type": "execute_result"
        }
      ],
      "source": [
        "x_train"
      ]
    },
    {
      "cell_type": "code",
      "execution_count": null,
      "metadata": {},
      "outputs": [],
      "source": []
    }
  ],
  "metadata": {
    "colab": {
      "collapsed_sections": [],
      "name": "Untitled0.ipynb",
      "provenance": []
    },
    "kernelspec": {
      "display_name": "Python 3",
      "name": "python3"
    },
    "language_info": {
      "codemirror_mode": {
        "name": "ipython",
        "version": 3
      },
      "file_extension": ".py",
      "mimetype": "text/x-python",
      "name": "python",
      "nbconvert_exporter": "python",
      "pygments_lexer": "ipython3",
      "version": "3.8.12"
    }
  },
  "nbformat": 4,
  "nbformat_minor": 0
}
