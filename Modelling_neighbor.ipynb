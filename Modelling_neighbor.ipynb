{
 "cells": [
  {
   "cell_type": "code",
   "execution_count": 24,
   "id": "5dd859f9",
   "metadata": {},
   "outputs": [],
   "source": [
    "from sklearn.pipeline import Pipeline\n",
    "from sklearn.preprocessing import StandardScaler\n",
    "from sklearn.ensemble import RandomForestClassifier\n",
    "from sklearn.linear_model import LogisticRegression\n",
    "from sklearn.metrics import f1_score\n",
    "from sklearn.metrics import accuracy_score\n",
    "from matplotlib import pyplot as plt\n",
    "import pandas as pd\n",
    "import seaborn as sns"
   ]
  },
  {
   "cell_type": "code",
   "execution_count": 2,
   "id": "4180a5ae",
   "metadata": {},
   "outputs": [],
   "source": [
    "#import datasets\n",
    "train_df = pd.read_csv(\"Neighbor_feautures_train.csv\")\n",
    "test_df = pd.read_csv(\"Neighbor_feautures_test.csv\")"
   ]
  },
  {
   "cell_type": "code",
   "execution_count": 3,
   "id": "938e5e44",
   "metadata": {},
   "outputs": [],
   "source": [
    "y_train = train_df[\"y\"]\n",
    "x_train = train_df.drop(\"y\", axis=1)\n",
    "y_test = test_df[\"y\"]\n",
    "x_test = test_df.drop(\"y\", axis=1)"
   ]
  },
  {
   "cell_type": "markdown",
   "id": "8bf8f687",
   "metadata": {},
   "source": [
    "# Correlation Matrix"
   ]
  },
  {
   "cell_type": "markdown",
   "id": "b8913e82",
   "metadata": {},
   "source": [
    "As expected, since all these feature are based on neighbors they are all correlated"
   ]
  },
  {
   "cell_type": "code",
   "execution_count": 25,
   "id": "e2da5655",
   "metadata": {},
   "outputs": [
    {
     "data": {
      "text/plain": [
       "<AxesSubplot:>"
      ]
     },
     "execution_count": 25,
     "metadata": {},
     "output_type": "execute_result"
    },
    {
     "data": {
      "image/png": "[encoded data removed]",
      "text/plain": [
       "<Figure size 432x288 with 2 Axes>"
      ]
     },
     "metadata": {
      "needs_background": "light"
     },
     "output_type": "display_data"
    }
   ],
   "source": [
    "sns.heatmap(x_train.corr())"
   ]
  },
  {
   "cell_type": "markdown",
   "id": "be0262b0",
   "metadata": {},
   "source": [
    "# Test each feature alone using Logistic Regression"
   ]
  },
  {
   "cell_type": "markdown",
   "id": "bbf6f096",
   "metadata": {},
   "source": [
    "We want to test the efficiacy of each metric alone in predicting if there is an adge or not"
   ]
  },
  {
   "cell_type": "code",
   "execution_count": 20,
   "id": "b0b86cce",
   "metadata": {},
   "outputs": [],
   "source": [
    "results = []\n",
    "#I save the results for each features\n",
    "for i in x_train.columns:\n",
    "    res = []\n",
    "    res.append(i)\n",
    "    logr = LogisticRegression()\n",
    "    #fit the model using just one metric\n",
    "    logr.fit(x_train[i].values.reshape(-1, 1),y_train)\n",
    "    #save the coefficient\n",
    "    res.append(float(logr.coef_[0]))\n",
    "    #save the accuracy\n",
    "    res.append(accuracy_score(y_test, logr.predict(x_test[i].values.reshape(-1, 1))))\n",
    "    #save the F1 score\n",
    "    res.append(f1_score(y_test, logr.predict(x_test[i].values.reshape(-1, 1))))\n",
    "    results.append(res)"
   ]
  },
  {
   "cell_type": "code",
   "execution_count": 21,
   "id": "bd427a20",
   "metadata": {},
   "outputs": [],
   "source": [
    "metrics_scores = pd.DataFrame(results, columns = [\"Metric\", \"Coefficient\", \"Accuracy\",\"F1-score\"])"
   ]
  },
  {
   "cell_type": "code",
   "execution_count": 22,
   "id": "2eeff6b5",
   "metadata": {},
   "outputs": [
    {
     "data": {
      "text/html": [
       "<div>\n",
       "<style scoped>\n",
       "    .dataframe tbody tr th:only-of-type {\n",
       "        vertical-align: middle;\n",
       "    }\n",
       "\n",
       "    .dataframe tbody tr th {\n",
       "        vertical-align: top;\n",
       "    }\n",
       "\n",
       "    .dataframe thead th {\n",
       "        text-align: right;\n",
       "    }\n",
       "</style>\n",
       "<table border=\"1\" class=\"dataframe\">\n",
       "  <thead>\n",
       "    <tr style=\"text-align: right;\">\n",
       "      <th></th>\n",
       "      <th>Metric</th>\n",
       "      <th>Coefficient</th>\n",
       "      <th>Accuracy</th>\n",
       "      <th>F1-score</th>\n",
       "    </tr>\n",
       "  </thead>\n",
       "  <tbody>\n",
       "    <tr>\n",
       "      <th>0</th>\n",
       "      <td>neighbors</td>\n",
       "      <td>7.912202</td>\n",
       "      <td>0.961460</td>\n",
       "      <td>0.959935</td>\n",
       "    </tr>\n",
       "    <tr>\n",
       "      <th>1</th>\n",
       "      <td>jaccard</td>\n",
       "      <td>86.869832</td>\n",
       "      <td>0.955602</td>\n",
       "      <td>0.953559</td>\n",
       "    </tr>\n",
       "    <tr>\n",
       "      <th>2</th>\n",
       "      <td>soresen</td>\n",
       "      <td>63.860945</td>\n",
       "      <td>0.958180</td>\n",
       "      <td>0.956374</td>\n",
       "    </tr>\n",
       "    <tr>\n",
       "      <th>3</th>\n",
       "      <td>LHN</td>\n",
       "      <td>163.905315</td>\n",
       "      <td>0.917701</td>\n",
       "      <td>0.910350</td>\n",
       "    </tr>\n",
       "    <tr>\n",
       "      <th>4</th>\n",
       "      <td>pref_attach</td>\n",
       "      <td>0.007842</td>\n",
       "      <td>0.697802</td>\n",
       "      <td>0.698292</td>\n",
       "    </tr>\n",
       "    <tr>\n",
       "      <th>5</th>\n",
       "      <td>resource_allocation</td>\n",
       "      <td>84.566326</td>\n",
       "      <td>0.957646</td>\n",
       "      <td>0.955791</td>\n",
       "    </tr>\n",
       "    <tr>\n",
       "      <th>6</th>\n",
       "      <td>hub_pro</td>\n",
       "      <td>48.043224</td>\n",
       "      <td>0.960991</td>\n",
       "      <td>0.959428</td>\n",
       "    </tr>\n",
       "    <tr>\n",
       "      <th>7</th>\n",
       "      <td>hub_dep</td>\n",
       "      <td>74.713783</td>\n",
       "      <td>0.956364</td>\n",
       "      <td>0.954393</td>\n",
       "    </tr>\n",
       "  </tbody>\n",
       "</table>\n",
       "</div>"
      ],
      "text/plain": [
       "                Metric  Coefficient  Accuracy  F1-score\n",
       "0            neighbors     7.912202  0.961460  0.959935\n",
       "1              jaccard    86.869832  0.955602  0.953559\n",
       "2              soresen    63.860945  0.958180  0.956374\n",
       "3                  LHN   163.905315  0.917701  0.910350\n",
       "4          pref_attach     0.007842  0.697802  0.698292\n",
       "5  resource_allocation    84.566326  0.957646  0.955791\n",
       "6              hub_pro    48.043224  0.960991  0.959428\n",
       "7              hub_dep    74.713783  0.956364  0.954393"
      ]
     },
     "execution_count": 22,
     "metadata": {},
     "output_type": "execute_result"
    }
   ],
   "source": [
    "metrics_scores"
   ]
  },
  {
   "cell_type": "markdown",
   "id": "d7879f86",
   "metadata": {},
   "source": [
    "# Random Forest"
   ]
  },
  {
   "cell_type": "code",
   "execution_count": 6,
   "id": "8ca6faf2",
   "metadata": {},
   "outputs": [],
   "source": [
    "pipeline = Pipeline([\n",
    "    ('scaler', StandardScaler()), \n",
    "    ('classifier', RandomForestClassifier())], \n",
    "    verbose = True)"
   ]
  },
  {
   "cell_type": "code",
   "execution_count": 10,
   "id": "01310d57",
   "metadata": {},
   "outputs": [
    {
     "name": "stdout",
     "output_type": "stream",
     "text": [
      "[Pipeline] ............ (step 1 of 2) Processing scaler, total=   0.1s\n",
      "[Pipeline] ..... (step 2 of 2) Processing decision_tree, total=  11.3s\n"
     ]
    },
    {
     "data": {
      "text/plain": [
       "Pipeline(steps=[('scaler', StandardScaler()),\n",
       "                ('decision_tree', RandomForestClassifier())],\n",
       "         verbose=True)"
      ]
     },
     "execution_count": 10,
     "metadata": {},
     "output_type": "execute_result"
    }
   ],
   "source": [
    "pipeline.fit(x_train, y_train)"
   ]
  },
  {
   "cell_type": "code",
   "execution_count": 11,
   "id": "c6e5d215",
   "metadata": {},
   "outputs": [
    {
     "data": {
      "text/plain": [
       "Text(0.5, 0, 'Random Forest Feature Importance')"
      ]
     },
     "execution_count": 11,
     "metadata": {},
     "output_type": "execute_result"
    },
    {
     "data": {
      "image/png": "[encoded data removed]",
      "text/plain": [
       "<Figure size 432x288 with 1 Axes>"
      ]
     },
     "metadata": {
      "needs_background": "light"
     },
     "output_type": "display_data"
    }
   ],
   "source": [
    "sorted_idx = pipeline[\"classifier\"].feature_importances_.argsort()\n",
    "plt.barh(x_train.columns[sorted_idx], pipeline[\"classifier\"].feature_importances_[sorted_idx])\n",
    "plt.xlabel(\"Random Forest Feature Importance\")"
   ]
  },
  {
   "cell_type": "code",
   "execution_count": 12,
   "id": "3a543d4a",
   "metadata": {},
   "outputs": [
    {
     "name": "stdout",
     "output_type": "stream",
     "text": [
      "0.958785223201317\n"
     ]
    }
   ],
   "source": [
    "print(f1_score(y_test, pipeline.predict(x_test)))"
   ]
  }
 ],
 "metadata": {
  "kernelspec": {
   "display_name": "Python 3 (ipykernel)",
   "language": "python",
   "name": "python3"
  },
  "language_info": {
   "codemirror_mode": {
    "name": "ipython",
    "version": 3
   },
   "file_extension": ".py",
   "mimetype": "text/x-python",
   "name": "python",
   "nbconvert_exporter": "python",
   "pygments_lexer": "ipython3",
   "version": "3.8.8"
  }
 },
 "nbformat": 4,
 "nbformat_minor": 5
}
