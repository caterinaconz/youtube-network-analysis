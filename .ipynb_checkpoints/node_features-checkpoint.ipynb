{
 "cells": [
  {
   "cell_type": "code",
   "execution_count": 17,
   "metadata": {},
   "outputs": [],
   "source": [
    "#all imports\n",
    "import pandas as pd\n",
    "import numpy as np\n",
    "from matplotlib import pyplot as plt\n",
    "import networkx as nx\n",
    "import pandas as pd\n",
    "from tqdm import tqdm"
   ]
  },
  {
   "cell_type": "code",
   "execution_count": 18,
   "metadata": {},
   "outputs": [],
   "source": [
    "nodes = pd.read_csv(\"youtube_raw.csv\").drop(\"id.1\",axis = 1)\n",
    "\n",
    "#eliminate recommendations\n",
    "nodes = nodes.iloc[:,0:9]"
   ]
  },
  {
   "cell_type": "code",
   "execution_count": 19,
   "metadata": {},
   "outputs": [
    {
     "data": {
      "text/html": [
       "<div>\n",
       "<style scoped>\n",
       "    .dataframe tbody tr th:only-of-type {\n",
       "        vertical-align: middle;\n",
       "    }\n",
       "\n",
       "    .dataframe tbody tr th {\n",
       "        vertical-align: top;\n",
       "    }\n",
       "\n",
       "    .dataframe thead th {\n",
       "        text-align: right;\n",
       "    }\n",
       "</style>\n",
       "<table border=\"1\" class=\"dataframe\">\n",
       "  <thead>\n",
       "    <tr style=\"text-align: right;\">\n",
       "      <th></th>\n",
       "      <th>id</th>\n",
       "      <th>uploader</th>\n",
       "      <th>age</th>\n",
       "      <th>category</th>\n",
       "      <th>length</th>\n",
       "      <th>views</th>\n",
       "      <th>rate</th>\n",
       "      <th>ratings</th>\n",
       "      <th>comments</th>\n",
       "    </tr>\n",
       "  </thead>\n",
       "  <tbody>\n",
       "    <tr>\n",
       "      <th>0</th>\n",
       "      <td>2rwktobtv9s</td>\n",
       "      <td>EA</td>\n",
       "      <td>742.0</td>\n",
       "      <td>Gadgets &amp; Games</td>\n",
       "      <td>83.0</td>\n",
       "      <td>389536.0</td>\n",
       "      <td>2.65</td>\n",
       "      <td>2294.0</td>\n",
       "      <td>268.0</td>\n",
       "    </tr>\n",
       "    <tr>\n",
       "      <th>1</th>\n",
       "      <td>h6Ghupxbj9g</td>\n",
       "      <td>KB42PAH</td>\n",
       "      <td>742.0</td>\n",
       "      <td>Sports</td>\n",
       "      <td>28.0</td>\n",
       "      <td>276207.0</td>\n",
       "      <td>4.57</td>\n",
       "      <td>297.0</td>\n",
       "      <td>424.0</td>\n",
       "    </tr>\n",
       "    <tr>\n",
       "      <th>2</th>\n",
       "      <td>mfeZibn3vmU</td>\n",
       "      <td>Gromek66</td>\n",
       "      <td>742.0</td>\n",
       "      <td>Comedy</td>\n",
       "      <td>278.0</td>\n",
       "      <td>151693.0</td>\n",
       "      <td>4.68</td>\n",
       "      <td>228.0</td>\n",
       "      <td>96.0</td>\n",
       "    </tr>\n",
       "  </tbody>\n",
       "</table>\n",
       "</div>"
      ],
      "text/plain": [
       "            id  uploader    age         category  length     views  rate  \\\n",
       "0  2rwktobtv9s        EA  742.0  Gadgets & Games    83.0  389536.0  2.65   \n",
       "1  h6Ghupxbj9g   KB42PAH  742.0           Sports    28.0  276207.0  4.57   \n",
       "2  mfeZibn3vmU  Gromek66  742.0           Comedy   278.0  151693.0  4.68   \n",
       "\n",
       "   ratings  comments  \n",
       "0   2294.0     268.0  \n",
       "1    297.0     424.0  \n",
       "2    228.0      96.0  "
      ]
     },
     "execution_count": 19,
     "metadata": {},
     "output_type": "execute_result"
    }
   ],
   "source": [
    "nodes.head(3)"
   ]
  },
  {
   "cell_type": "code",
   "execution_count": 20,
   "metadata": {},
   "outputs": [],
   "source": [
    "#transform every column in list\n",
    "for i in nodes.columns:\n",
    "    globals()[i]=nodes[i].values.tolist()\n",
    "    "
   ]
  },
  {
   "cell_type": "code",
   "execution_count": 21,
   "metadata": {},
   "outputs": [
    {
     "data": {
      "text/plain": [
       "Index(['id', 'uploader', 'age', 'category', 'length', 'views', 'rate',\n",
       "       'ratings', 'comments'],\n",
       "      dtype='object')"
      ]
     },
     "execution_count": 21,
     "metadata": {},
     "output_type": "execute_result"
    }
   ],
   "source": [
    "#print all variables that are now available as lists\n",
    "nodes.columns"
   ]
  },
  {
   "cell_type": "markdown",
   "metadata": {},
   "source": [
    "# Define Features"
   ]
  },
  {
   "cell_type": "code",
   "execution_count": 22,
   "metadata": {},
   "outputs": [],
   "source": [
    "def node_features(source, target):\n",
    "    source_idx, target_idx = id.index(source), id.index(target)\n",
    "    same_channel = 1 if uploader[source_idx]==uploader[target_idx] else 0\n",
    "    age_diff = age[source_idx]-age[target_idx]\n",
    "    same_category = 1 if category[source_idx]==category[target_idx] else 0\n",
    "    length_diff = length[source_idx]-length[target_idx]\n",
    "    views_diff = views[source_idx]-views[target_idx]\n",
    "    rate_diff = rate[source_idx]-rate[target_idx]\n",
    "    nb_rate_diff = ratings[source_idx]-ratings[target_idx]\n",
    "    comments_diff = comments[source_idx]-comments[target_idx]\n",
    "\n",
    "    return [same_channel,\n",
    "            age_diff,\n",
    "            same_category,\n",
    "            length_diff,\n",
    "            views_diff,\n",
    "            rate_diff,\n",
    "            nb_rate_diff,\n",
    "            comments_diff]"
   ]
  },
  {
   "cell_type": "markdown",
   "metadata": {},
   "source": [
    "# Compute Features"
   ]
  },
  {
   "cell_type": "code",
   "execution_count": 23,
   "metadata": {},
   "outputs": [],
   "source": [
    "#read train set and train graph\n",
    "train_edges = pd.read_csv(\"train_set.csv\", index_col =0).values.tolist()\n",
    "G_train = nx.read_edgelist(\"train.edgelist\", delimiter=',')\n",
    "\n",
    "#read test set and test graph\n",
    "test_edges = pd.read_csv(\"test_set.csv\", index_col =0).values.tolist()\n",
    "G_test = nx.read_edgelist(\"test.edgelist\", delimiter=',')"
   ]
  },
  {
   "cell_type": "code",
   "execution_count": 29,
   "metadata": {},
   "outputs": [
    {
     "name": "stderr",
     "output_type": "stream",
     "text": [
      "100%|██████████| 307274/307274 [40:16<00:00, 127.14it/s]\n"
     ]
    }
   ],
   "source": [
    "#compute features for training set\n",
    "x_train = []\n",
    "y_train = []\n",
    "for i in tqdm(train_edges):\n",
    "    x_train.append(node_features(i[0], i[1]))\n",
    "    y_train.append(int(i[2]))"
   ]
  },
  {
   "cell_type": "code",
   "execution_count": 30,
   "metadata": {},
   "outputs": [],
   "source": [
    "x_train = pd.DataFrame(x_train, columns = [\"same_channel\",\n",
    "            \"age_diff\",\n",
    "            \"same_category\",\n",
    "            \"length_diff\",\n",
    "            \"views_diff\",\n",
    "            \"rate_diff\",\n",
    "            \"nb_rate_diff\",\n",
    "            \"comments_diff\"])\n",
    "            \n",
    "x_train[\"y\"] = y_train"
   ]
  },
  {
   "cell_type": "code",
   "execution_count": 31,
   "metadata": {},
   "outputs": [],
   "source": [
    "x_train.to_csv(\"node_feautures_train.csv\", index=False)"
   ]
  },
  {
   "cell_type": "code",
   "execution_count": 32,
   "metadata": {},
   "outputs": [
    {
     "data": {
      "text/html": [
       "<div>\n",
       "<style scoped>\n",
       "    .dataframe tbody tr th:only-of-type {\n",
       "        vertical-align: middle;\n",
       "    }\n",
       "\n",
       "    .dataframe tbody tr th {\n",
       "        vertical-align: top;\n",
       "    }\n",
       "\n",
       "    .dataframe thead th {\n",
       "        text-align: right;\n",
       "    }\n",
       "</style>\n",
       "<table border=\"1\" class=\"dataframe\">\n",
       "  <thead>\n",
       "    <tr style=\"text-align: right;\">\n",
       "      <th></th>\n",
       "      <th>same_channel</th>\n",
       "      <th>age_diff</th>\n",
       "      <th>same_category</th>\n",
       "      <th>length_diff</th>\n",
       "      <th>views_diff</th>\n",
       "      <th>rate_diff</th>\n",
       "      <th>nb_rate_diff</th>\n",
       "      <th>comments_diff</th>\n",
       "      <th>y</th>\n",
       "    </tr>\n",
       "  </thead>\n",
       "  <tbody>\n",
       "    <tr>\n",
       "      <th>0</th>\n",
       "      <td>0</td>\n",
       "      <td>-55.0</td>\n",
       "      <td>1</td>\n",
       "      <td>330.0</td>\n",
       "      <td>3.0</td>\n",
       "      <td>0.02</td>\n",
       "      <td>2.0</td>\n",
       "      <td>0.0</td>\n",
       "      <td>1</td>\n",
       "    </tr>\n",
       "    <tr>\n",
       "      <th>1</th>\n",
       "      <td>1</td>\n",
       "      <td>2.0</td>\n",
       "      <td>1</td>\n",
       "      <td>-221.0</td>\n",
       "      <td>1423.0</td>\n",
       "      <td>0.01</td>\n",
       "      <td>13.0</td>\n",
       "      <td>10.0</td>\n",
       "      <td>1</td>\n",
       "    </tr>\n",
       "    <tr>\n",
       "      <th>2</th>\n",
       "      <td>0</td>\n",
       "      <td>86.0</td>\n",
       "      <td>0</td>\n",
       "      <td>-32.0</td>\n",
       "      <td>292.0</td>\n",
       "      <td>-1.75</td>\n",
       "      <td>8.0</td>\n",
       "      <td>12.0</td>\n",
       "      <td>1</td>\n",
       "    </tr>\n",
       "  </tbody>\n",
       "</table>\n",
       "</div>"
      ],
      "text/plain": [
       "   same_channel  age_diff  same_category  length_diff  views_diff  rate_diff  \\\n",
       "0             0     -55.0              1        330.0         3.0       0.02   \n",
       "1             1       2.0              1       -221.0      1423.0       0.01   \n",
       "2             0      86.0              0        -32.0       292.0      -1.75   \n",
       "\n",
       "   nb_rate_diff  comments_diff  y  \n",
       "0           2.0            0.0  1  \n",
       "1          13.0           10.0  1  \n",
       "2           8.0           12.0  1  "
      ]
     },
     "execution_count": 32,
     "metadata": {},
     "output_type": "execute_result"
    }
   ],
   "source": [
    "x_train.head(3)"
   ]
  },
  {
   "cell_type": "code",
   "execution_count": 33,
   "metadata": {},
   "outputs": [
    {
     "name": "stderr",
     "output_type": "stream",
     "text": [
      "100%|██████████| 170706/170706 [17:01<00:00, 167.16it/s]\n"
     ]
    }
   ],
   "source": [
    "#compute feautures for test set\n",
    "x_test = []\n",
    "y_test = []\n",
    "for i in tqdm(test_edges):\n",
    "    x_test.append(node_features(i[0], i[1]))\n",
    "    y_test.append(int(i[2]))"
   ]
  },
  {
   "cell_type": "code",
   "execution_count": 34,
   "metadata": {},
   "outputs": [],
   "source": [
    "x_test = pd.DataFrame(x_test, columns = [\"same_channel\",\n",
    "            \"age_diff\",\n",
    "            \"same_category\",\n",
    "            \"length_diff\",\n",
    "            \"views_diff\",\n",
    "            \"rate_diff\",\n",
    "            \"nb_rate_diff\",\n",
    "            \"comments_diff\"])\n",
    "            \n",
    "x_test[\"y\"] = y_test"
   ]
  },
  {
   "cell_type": "code",
   "execution_count": 35,
   "metadata": {},
   "outputs": [],
   "source": [
    "x_test.to_csv(\"node_feautures_test.csv\", index=False)"
   ]
  }
 ],
 "metadata": {
  "interpreter": {
   "hash": "48ad31de0ee9b42ad5890166a6de5a08c4720a9a085550733e594727fa93335f"
  },
  "kernelspec": {
   "display_name": "Python 3 (ipykernel)",
   "language": "python",
   "name": "python3"
  },
  "language_info": {
   "codemirror_mode": {
    "name": "ipython",
    "version": 3
   },
   "file_extension": ".py",
   "mimetype": "text/x-python",
   "name": "python",
   "nbconvert_exporter": "python",
   "pygments_lexer": "ipython3",
   "version": "3.8.10"
  }
 },
 "nbformat": 4,
 "nbformat_minor": 2
}
