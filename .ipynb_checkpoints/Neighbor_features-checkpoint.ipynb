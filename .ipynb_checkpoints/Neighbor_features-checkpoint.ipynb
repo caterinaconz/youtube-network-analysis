{
 "cells": [
  {
   "cell_type": "code",
   "execution_count": 1,
   "id": "78fb52f7",
   "metadata": {},
   "outputs": [],
   "source": [
    "#all imports\n",
    "import pandas as pd\n",
    "import numpy as np\n",
    "from matplotlib import pyplot as plt\n",
    "import networkx as nx\n",
    "import pandas as pd\n",
    "from tqdm import tqdm"
   ]
  },
  {
   "cell_type": "code",
   "execution_count": 2,
   "id": "965fabd8",
   "metadata": {},
   "outputs": [],
   "source": [
    "nodes = pd.read_csv(\"youtube_raw.csv\").drop(\"id.1\",axis = 1)\n",
    "\n",
    "#eliminate recommendations\n",
    "nodes = nodes.iloc[:,0:9]"
   ]
  },
  {
   "cell_type": "code",
   "execution_count": 3,
   "id": "7882e3d2",
   "metadata": {},
   "outputs": [],
   "source": [
    "#transform every column in list\n",
    "for i in nodes.columns:\n",
    "    globals()[i]=nodes[i].values.tolist()\n",
    "    "
   ]
  },
  {
   "cell_type": "code",
   "execution_count": 4,
   "id": "eefb37fb",
   "metadata": {},
   "outputs": [
    {
     "data": {
      "text/plain": [
       "Index(['id', 'uploader', 'age', 'category', 'length', 'views', 'rate',\n",
       "       'ratings', 'comments'],\n",
       "      dtype='object')"
      ]
     },
     "execution_count": 4,
     "metadata": {},
     "output_type": "execute_result"
    }
   ],
   "source": [
    "#print all variables that are now available as lists\n",
    "nodes.columns"
   ]
  },
  {
   "cell_type": "markdown",
   "id": "dd59e535",
   "metadata": {},
   "source": [
    "# Define features"
   ]
  },
  {
   "cell_type": "code",
   "execution_count": 41,
   "id": "d722a4a8",
   "metadata": {},
   "outputs": [],
   "source": [
    "def Neighbor_features(G, source, target):\n",
    "    \n",
    "    #Common Neighbors\n",
    "    neighbors = len(list(nx.common_neighbors(G, source, target)))\n",
    "    #Jaccard Similarity\n",
    "    jaccard = list(nx.jaccard_coefficient(G, [(source, target)]))[0][2]\n",
    "    #Soresen Index\n",
    "    soresen = len(list(nx.common_neighbors(G, source, target)))*(2/(G.degree(source)+G.degree(target)))\n",
    "    #LHN\n",
    "    LHN = len(list(nx.common_neighbors(G, source, target)))/(G.degree(source)*G.degree(target))\n",
    "    #Adamic Adar Index\n",
    "    #adar = list(nx.adamic_adar_index(G, [(source, target)]))[0][2]\n",
    "    #Preferential Attachment\n",
    "    pref_attach = list(nx.preferential_attachment(G, [(source,target)]))[0][2]\n",
    "    #Resource Allocation index\n",
    "    resource_allocation = list(nx.resource_allocation_index(G, [(source, target)]))[0][2]\n",
    "    #Hub promoted\n",
    "    hub_pro = len(list(nx.common_neighbors(G, source, target)))/min(G.degree(source), G.degree(target))\n",
    "    #Hub depressed\n",
    "    hub_dep = len(list(nx.common_neighbors(G, source, target)))/max(G.degree(source), G.degree(target))\n",
    "\n",
    "    return [neighbors,\n",
    "            jaccard,\n",
    "            soresen,\n",
    "            LHN,\n",
    "            #adar,\n",
    "            pref_attach,\n",
    "            resource_allocation,\n",
    "            hub_pro,\n",
    "            hub_dep]"
   ]
  },
  {
   "cell_type": "markdown",
   "id": "14d3701d",
   "metadata": {},
   "source": [
    "# Compute features"
   ]
  },
  {
   "cell_type": "code",
   "execution_count": 42,
   "id": "aa2e1638",
   "metadata": {},
   "outputs": [],
   "source": [
    "#read train set and train graph\n",
    "train_edges = pd.read_csv(\"train_set.csv\", index_col =0).values.tolist()\n",
    "G_train = nx.read_edgelist(\"train.edgelist\", delimiter=',')\n",
    "\n",
    "#read test set and test graph\n",
    "test_edges = pd.read_csv(\"test_set.csv\", index_col =0).values.tolist()\n",
    "G_test = nx.read_edgelist(\"test.edgelist\", delimiter=',')"
   ]
  },
  {
   "cell_type": "code",
   "execution_count": 43,
   "id": "8da4ac1c",
   "metadata": {},
   "outputs": [
    {
     "name": "stderr",
     "output_type": "stream",
     "text": [
      "100%|█████████████████████████████████| 307274/307274 [00:31<00:00, 9729.17it/s]\n"
     ]
    }
   ],
   "source": [
    "#compute features for training set\n",
    "x_train = []\n",
    "y_train = []\n",
    "for i in tqdm(train_edges):\n",
    "    x_train.append(Neighbor_features(G_train, i[0], i[1]))\n",
    "    y_train.append(int(i[2]))"
   ]
  },
  {
   "cell_type": "code",
   "execution_count": 44,
   "id": "410f6f00",
   "metadata": {},
   "outputs": [],
   "source": [
    "x_train = pd.DataFrame(x_train, columns = ['neighbors',\n",
    "            'jaccard',\n",
    "            'soresen',\n",
    "            'LHN',                          \n",
    "            #'adar',\n",
    "            'pref_attach',\n",
    "            'resource_allocation',\n",
    "            'hub_pro',\n",
    "            'hub_dep'])\n",
    "            \n",
    "x_train['y'] = y_train"
   ]
  },
  {
   "cell_type": "code",
   "execution_count": 45,
   "id": "71669b7e",
   "metadata": {},
   "outputs": [],
   "source": [
    "x_train.to_csv('Neighbor_feautures_train.csv', index=False)"
   ]
  },
  {
   "cell_type": "code",
   "execution_count": 46,
   "id": "472c53a8",
   "metadata": {},
   "outputs": [
    {
     "name": "stderr",
     "output_type": "stream",
     "text": [
      "100%|█████████████████████████████████| 170706/170706 [00:21<00:00, 8054.24it/s]\n"
     ]
    }
   ],
   "source": [
    "#compute feautures for test set\n",
    "x_test = []\n",
    "y_test = []\n",
    "for i in tqdm(test_edges):\n",
    "    x_test.append(Neighbor_features(G_test, i[0], i[1]))\n",
    "    y_test.append(int(i[2]))"
   ]
  },
  {
   "cell_type": "code",
   "execution_count": 47,
   "id": "129ae3e5",
   "metadata": {},
   "outputs": [],
   "source": [
    "x_test = pd.DataFrame(x_test, columns = ['neighbors',\n",
    "            'jaccard',\n",
    "            'soresen',\n",
    "            'LHN', \n",
    "            #'adar',\n",
    "            'pref_attach',\n",
    "            'resource_allocation',\n",
    "            'hub_pro',\n",
    "            'hub_dep'])\n",
    "            \n",
    "x_test['y'] = y_test"
   ]
  },
  {
   "cell_type": "code",
   "execution_count": 48,
   "id": "f81d90fa",
   "metadata": {},
   "outputs": [],
   "source": [
    "x_test.to_csv('Neighbor_feautures_test.csv', index=False)"
   ]
  }
 ],
 "metadata": {
  "kernelspec": {
   "display_name": "Python 3 (ipykernel)",
   "language": "python",
   "name": "python3"
  },
  "language_info": {
   "codemirror_mode": {
    "name": "ipython",
    "version": 3
   },
   "file_extension": ".py",
   "mimetype": "text/x-python",
   "name": "python",
   "nbconvert_exporter": "python",
   "pygments_lexer": "ipython3",
   "version": "3.8.10"
  }
 },
 "nbformat": 4,
 "nbformat_minor": 5
}
